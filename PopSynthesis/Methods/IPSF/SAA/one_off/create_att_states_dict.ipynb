{
 "cells": [
  {
   "cell_type": "code",
   "execution_count": 1,
   "metadata": {},
   "outputs": [],
   "source": [
    "import pandas as pd\n",
    "import pickle\n",
    "from PopSynthesis.Methods.IPSF.const import data_dir, processed_dir, NOT_INCLUDED_IN_BN_LEARN"
   ]
  },
  {
   "cell_type": "code",
   "execution_count": 2,
   "metadata": {},
   "outputs": [],
   "source": [
    "hh_file = data_dir / \"hh_sample_ipu.csv\"\n",
    "pp_file = data_dir / \"pp_sample_ipu.csv\"\n",
    "\n",
    "hh_df = pd.read_csv(hh_file)\n",
    "pp_df = pd.read_csv(pp_file)"
   ]
  },
  {
   "cell_type": "code",
   "execution_count": 3,
   "metadata": {},
   "outputs": [
    {
     "data": {
      "text/plain": [
       "{'dwelltype': ['Separate House',\n",
       "  'Terrace/Townhouse',\n",
       "  'Other',\n",
       "  'Flat or Apartment',\n",
       "  'Missing'],\n",
       " 'owndwell': ['Fully Owned',\n",
       "  'Being Purchased',\n",
       "  'Being Rented',\n",
       "  'Something Else'],\n",
       " 'hhinc': ['1000-1249',\n",
       "  '1500-1749',\n",
       "  '1750-1999',\n",
       "  '2500-2999',\n",
       "  '2000-2499',\n",
       "  '3500-3999',\n",
       "  '150-299',\n",
       "  '1250-1499',\n",
       "  '650-799',\n",
       "  '300-399',\n",
       "  '1-149',\n",
       "  '3000-3499',\n",
       "  '500-649',\n",
       "  '4500-4999',\n",
       "  '800-999',\n",
       "  '5000-5999',\n",
       "  '4000-4499',\n",
       "  '400-499',\n",
       "  '6000-7999',\n",
       "  '8000+',\n",
       "  'Nil income',\n",
       "  'Negative income'],\n",
       " 'totalvehs': ['2', '3', '1', '4+', '0'],\n",
       " 'hhsize': ['4', '3', '2', '1', '5', '6', '8+', '7']}"
      ]
     },
     "execution_count": 3,
     "metadata": {},
     "output_type": "execute_result"
    }
   ],
   "source": [
    "# return dict statenames for hh\n",
    "dict_hh_state_names = {\n",
    "    hh_cols: list(hh_df[hh_cols].unique())\n",
    "    for hh_cols in hh_df.columns\n",
    "    if hh_cols not in NOT_INCLUDED_IN_BN_LEARN\n",
    "}\n",
    "dict_hh_state_names[\"hhinc\"].append(\"Negative income\")\n",
    "\n",
    "dict_hh_state_names"
   ]
  },
  {
   "cell_type": "code",
   "execution_count": 4,
   "metadata": {},
   "outputs": [],
   "source": [
    "with open(processed_dir / \"dict_hh_states.pickle\", \"wb\") as handle:\n",
    "    pickle.dump(dict_hh_state_names, handle, protocol=pickle.HIGHEST_PROTOCOL)"
   ]
  },
  {
   "cell_type": "code",
   "execution_count": 5,
   "metadata": {},
   "outputs": [
    {
     "data": {
      "text/plain": [
       "{'age': ['50-59',\n",
       "  '40-49',\n",
       "  '10-19',\n",
       "  '0-9',\n",
       "  '20-29',\n",
       "  '60-69',\n",
       "  '70-79',\n",
       "  '80-89',\n",
       "  '30-39',\n",
       "  '90-99',\n",
       "  '100+'],\n",
       " 'sex': ['M', 'F'],\n",
       " 'persinc': ['$1000-1249 p.w.',\n",
       "  '$1-199 p.w.',\n",
       "  'Zero Income',\n",
       "  '$300-399 p.w.',\n",
       "  '$800-999 p.w.',\n",
       "  '$400-599 p.w.',\n",
       "  '$1250-1499 p.w.',\n",
       "  '$1500-1999 p.w.',\n",
       "  '$600-799 p.w.',\n",
       "  '$2000+ p.w.',\n",
       "  '$200-299 p.w.',\n",
       "  'Negative Income'],\n",
       " 'nolicence': ['Some Licence', 'No Licence'],\n",
       " 'anywork': ['Y', 'N']}"
      ]
     },
     "execution_count": 5,
     "metadata": {},
     "output_type": "execute_result"
    }
   ],
   "source": [
    "# return dict statenames for pp\n",
    "dict_pp_state_names = {\n",
    "    pp_cols: list(pp_df[pp_cols].unique())\n",
    "    for pp_cols in pp_df.columns\n",
    "    if pp_cols not in NOT_INCLUDED_IN_BN_LEARN\n",
    "}\n",
    "dict_pp_state_names"
   ]
  },
  {
   "cell_type": "code",
   "execution_count": 6,
   "metadata": {},
   "outputs": [],
   "source": [
    "with open(processed_dir / \"dict_pp_states.pickle\", \"wb\") as handle:\n",
    "    pickle.dump(dict_pp_state_names, handle, protocol=pickle.HIGHEST_PROTOCOL)"
   ]
  }
 ],
 "metadata": {
  "kernelspec": {
   "display_name": "popsyn",
   "language": "python",
   "name": "python3"
  },
  "language_info": {
   "codemirror_mode": {
    "name": "ipython",
    "version": 3
   },
   "file_extension": ".py",
   "mimetype": "text/x-python",
   "name": "python",
   "nbconvert_exporter": "python",
   "pygments_lexer": "ipython3",
   "version": "3.9.18"
  }
 },
 "nbformat": 4,
 "nbformat_minor": 2
}
