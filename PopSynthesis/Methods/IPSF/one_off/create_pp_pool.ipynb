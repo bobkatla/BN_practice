{
 "cells": [
  {
   "cell_type": "code",
   "execution_count": 1,
   "metadata": {},
   "outputs": [],
   "source": [
    "import pickle\n",
    "import pandas as pd\n",
    "from PopSynthesis.Methods.IPSF.const import (\n",
    "    data_dir,\n",
    "    processed_dir,\n",
    "    POOL_SIZE,\n",
    ")\n",
    "from PopSynthesis.Methods.IPSF.utils.pool_utils import create_pool"
   ]
  },
  {
   "cell_type": "code",
   "execution_count": 3,
   "metadata": {},
   "outputs": [],
   "source": [
    "pp_seed = pd.read_csv(data_dir / \"pp_sample_ipu.csv\")\n",
    "with open(processed_dir / \"dict_pp_states.pickle\", \"rb\") as handle:\n",
    "    pp_att_state = pickle.load(handle)\n",
    "pp_seed = pp_seed[list(pp_att_state.keys())]"
   ]
  },
  {
   "cell_type": "code",
   "execution_count": 4,
   "metadata": {},
   "outputs": [
    {
     "name": "stdout",
     "output_type": "stream",
     "text": [
      "Learn BN\n"
     ]
    },
    {
     "data": {
      "application/json": {
       "ascii": false,
       "bar_format": null,
       "colour": null,
       "elapsed": 0.016000747680664062,
       "initial": 0,
       "n": 0,
       "ncols": null,
       "nrows": null,
       "postfix": null,
       "prefix": "",
       "rate": null,
       "total": 1000000,
       "unit": "it",
       "unit_divisor": 1000,
       "unit_scale": false
      },
      "application/vnd.jupyter.widget-view+json": {
       "model_id": "3ffae2c6d9c2439b955e89d4c99e9df8",
       "version_major": 2,
       "version_minor": 0
      },
      "text/plain": [
       "  0%|          | 0/1000000 [00:00<?, ?it/s]"
      ]
     },
     "metadata": {},
     "output_type": "display_data"
    },
    {
     "name": "stdout",
     "output_type": "stream",
     "text": [
      "Doing the sampling\n"
     ]
    },
    {
     "data": {
      "application/json": {
       "ascii": false,
       "bar_format": null,
       "colour": null,
       "elapsed": 0.016001224517822266,
       "initial": 0,
       "n": 0,
       "ncols": null,
       "nrows": null,
       "postfix": null,
       "prefix": "",
       "rate": null,
       "total": 5,
       "unit": "it",
       "unit_divisor": 1000,
       "unit_scale": false
      },
      "application/vnd.jupyter.widget-view+json": {
       "model_id": "947e4c56f9934a8cb6e149b33541c226",
       "version_major": 2,
       "version_minor": 0
      },
      "text/plain": [
       "  0%|          | 0/5 [00:00<?, ?it/s]"
      ]
     },
     "metadata": {},
     "output_type": "display_data"
    }
   ],
   "source": [
    "pool = create_pool(seed=pp_seed, state_names=pp_att_state, pool_sz=POOL_SIZE)"
   ]
  },
  {
   "cell_type": "code",
   "execution_count": 5,
   "metadata": {},
   "outputs": [
    {
     "data": {
      "text/html": [
       "<div>\n",
       "<style scoped>\n",
       "    .dataframe tbody tr th:only-of-type {\n",
       "        vertical-align: middle;\n",
       "    }\n",
       "\n",
       "    .dataframe tbody tr th {\n",
       "        vertical-align: top;\n",
       "    }\n",
       "\n",
       "    .dataframe thead th {\n",
       "        text-align: right;\n",
       "    }\n",
       "</style>\n",
       "<table border=\"1\" class=\"dataframe\">\n",
       "  <thead>\n",
       "    <tr style=\"text-align: right;\">\n",
       "      <th></th>\n",
       "      <th>age</th>\n",
       "      <th>sex</th>\n",
       "      <th>persinc</th>\n",
       "      <th>nolicence</th>\n",
       "      <th>anywork</th>\n",
       "    </tr>\n",
       "  </thead>\n",
       "  <tbody>\n",
       "    <tr>\n",
       "      <th>0</th>\n",
       "      <td>40-49</td>\n",
       "      <td>F</td>\n",
       "      <td>$1000-1249 p.w.</td>\n",
       "      <td>Some Licence</td>\n",
       "      <td>Y</td>\n",
       "    </tr>\n",
       "    <tr>\n",
       "      <th>1</th>\n",
       "      <td>20-29</td>\n",
       "      <td>F</td>\n",
       "      <td>$800-999 p.w.</td>\n",
       "      <td>Some Licence</td>\n",
       "      <td>Y</td>\n",
       "    </tr>\n",
       "    <tr>\n",
       "      <th>2</th>\n",
       "      <td>10-19</td>\n",
       "      <td>F</td>\n",
       "      <td>Zero Income</td>\n",
       "      <td>No Licence</td>\n",
       "      <td>N</td>\n",
       "    </tr>\n",
       "    <tr>\n",
       "      <th>3</th>\n",
       "      <td>30-39</td>\n",
       "      <td>F</td>\n",
       "      <td>$600-799 p.w.</td>\n",
       "      <td>Some Licence</td>\n",
       "      <td>N</td>\n",
       "    </tr>\n",
       "    <tr>\n",
       "      <th>4</th>\n",
       "      <td>40-49</td>\n",
       "      <td>M</td>\n",
       "      <td>$600-799 p.w.</td>\n",
       "      <td>Some Licence</td>\n",
       "      <td>N</td>\n",
       "    </tr>\n",
       "    <tr>\n",
       "      <th>...</th>\n",
       "      <td>...</td>\n",
       "      <td>...</td>\n",
       "      <td>...</td>\n",
       "      <td>...</td>\n",
       "      <td>...</td>\n",
       "    </tr>\n",
       "    <tr>\n",
       "      <th>4999995</th>\n",
       "      <td>20-29</td>\n",
       "      <td>M</td>\n",
       "      <td>$2000+ p.w.</td>\n",
       "      <td>Some Licence</td>\n",
       "      <td>Y</td>\n",
       "    </tr>\n",
       "    <tr>\n",
       "      <th>4999996</th>\n",
       "      <td>20-29</td>\n",
       "      <td>F</td>\n",
       "      <td>Zero Income</td>\n",
       "      <td>Some Licence</td>\n",
       "      <td>N</td>\n",
       "    </tr>\n",
       "    <tr>\n",
       "      <th>4999997</th>\n",
       "      <td>10-19</td>\n",
       "      <td>M</td>\n",
       "      <td>Zero Income</td>\n",
       "      <td>No Licence</td>\n",
       "      <td>N</td>\n",
       "    </tr>\n",
       "    <tr>\n",
       "      <th>4999998</th>\n",
       "      <td>0-9</td>\n",
       "      <td>M</td>\n",
       "      <td>Zero Income</td>\n",
       "      <td>No Licence</td>\n",
       "      <td>N</td>\n",
       "    </tr>\n",
       "    <tr>\n",
       "      <th>4999999</th>\n",
       "      <td>40-49</td>\n",
       "      <td>F</td>\n",
       "      <td>$400-599 p.w.</td>\n",
       "      <td>Some Licence</td>\n",
       "      <td>N</td>\n",
       "    </tr>\n",
       "  </tbody>\n",
       "</table>\n",
       "<p>5000000 rows × 5 columns</p>\n",
       "</div>"
      ],
      "text/plain": [
       "           age sex          persinc     nolicence anywork\n",
       "0        40-49   F  $1000-1249 p.w.  Some Licence       Y\n",
       "1        20-29   F    $800-999 p.w.  Some Licence       Y\n",
       "2        10-19   F      Zero Income    No Licence       N\n",
       "3        30-39   F    $600-799 p.w.  Some Licence       N\n",
       "4        40-49   M    $600-799 p.w.  Some Licence       N\n",
       "...        ...  ..              ...           ...     ...\n",
       "4999995  20-29   M      $2000+ p.w.  Some Licence       Y\n",
       "4999996  20-29   F      Zero Income  Some Licence       N\n",
       "4999997  10-19   M      Zero Income    No Licence       N\n",
       "4999998    0-9   M      Zero Income    No Licence       N\n",
       "4999999  40-49   F    $400-599 p.w.  Some Licence       N\n",
       "\n",
       "[5000000 rows x 5 columns]"
      ]
     },
     "execution_count": 5,
     "metadata": {},
     "output_type": "execute_result"
    }
   ],
   "source": [
    "pool"
   ]
  },
  {
   "cell_type": "code",
   "execution_count": 6,
   "metadata": {},
   "outputs": [],
   "source": [
    "pool.to_csv(processed_dir / \"PP_pool.csv\", index=False)"
   ]
  },
  {
   "cell_type": "code",
   "execution_count": null,
   "metadata": {},
   "outputs": [],
   "source": []
  }
 ],
 "metadata": {
  "kernelspec": {
   "display_name": "popsyn",
   "language": "python",
   "name": "python3"
  },
  "language_info": {
   "codemirror_mode": {
    "name": "ipython",
    "version": 3
   },
   "file_extension": ".py",
   "mimetype": "text/x-python",
   "name": "python",
   "nbconvert_exporter": "python",
   "pygments_lexer": "ipython3",
   "version": "3.9.18"
  }
 },
 "nbformat": 4,
 "nbformat_minor": 2
}
