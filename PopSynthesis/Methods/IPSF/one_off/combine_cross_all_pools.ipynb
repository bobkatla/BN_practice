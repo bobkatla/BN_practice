{
 "cells": [
  {
   "cell_type": "markdown",
   "metadata": {},
   "source": [
    "# Combine all existing pools to check for shared combinations"
   ]
  },
  {
   "cell_type": "code",
   "execution_count": 1,
   "metadata": {},
   "outputs": [],
   "source": [
    "%load_ext autoreload\n",
    "%autoreload 2"
   ]
  },
  {
   "cell_type": "code",
   "execution_count": 2,
   "metadata": {},
   "outputs": [],
   "source": [
    "import pandas as pd\n",
    "import pickle\n",
    "from PopSynthesis.Methods.IPSF.const import (\n",
    "    HH_TAG,\n",
    "    HH_ATTS,\n",
    "    PP_ATTS,\n",
    "    NOT_INCLUDED_IN_BN_LEARN,\n",
    "    processed_dir\n",
    ")"
   ]
  },
  {
   "cell_type": "code",
   "execution_count": 3,
   "metadata": {},
   "outputs": [],
   "source": [
    "hh_pool = pd.read_csv(processed_dir / \"HH_pool.csv\")\n",
    "with open(processed_dir / \"dict_pool_pairs_by_layers.pickle\", \"rb\") as handle:\n",
    "    pools_ref = pickle.load(handle)"
   ]
  },
  {
   "cell_type": "code",
   "execution_count": 4,
   "metadata": {},
   "outputs": [
    {
     "data": {
      "text/plain": [
       "{'Child',\n",
       " 'Grandchild',\n",
       " 'Grandparent',\n",
       " 'Main',\n",
       " 'Others',\n",
       " 'Parent',\n",
       " 'Sibling',\n",
       " 'Spouse'}"
      ]
     },
     "execution_count": 4,
     "metadata": {},
     "output_type": "execute_result"
    }
   ],
   "source": [
    "all_rela = set(x.split(\"-\")[-1] for x in pools_ref.keys())\n",
    "all_rela"
   ]
  },
  {
   "cell_type": "code",
   "execution_count": 5,
   "metadata": {},
   "outputs": [],
   "source": [
    "pools_ref[HH_TAG] = hh_pool"
   ]
  },
  {
   "cell_type": "code",
   "execution_count": 6,
   "metadata": {},
   "outputs": [],
   "source": [
    "pp_atts = [x for x in PP_ATTS if x not in NOT_INCLUDED_IN_BN_LEARN]\n",
    "hh_atts = [x for x in HH_ATTS if x not in NOT_INCLUDED_IN_BN_LEARN]"
   ]
  },
  {
   "cell_type": "code",
   "execution_count": 7,
   "metadata": {},
   "outputs": [],
   "source": [
    "def cross_check_between_2_pools(pool1, pool2, considered_atts):\n",
    "    assert set(considered_atts) <= set(pool1.columns)\n",
    "    assert set(considered_atts) <= set(pool2.columns)\n",
    "    converted_pool1 = pool1.set_index(considered_atts)\n",
    "    converted_pool2 = pool2.set_index(considered_atts)\n",
    "    possible_comb = set(converted_pool1.index) & set(converted_pool2.index)\n",
    "    result_pool1 = converted_pool1.loc[list(possible_comb)].reset_index()\n",
    "    result_pool2 = converted_pool2.loc[list(possible_comb)].reset_index()\n",
    "    return result_pool1, result_pool2"
   ]
  },
  {
   "cell_type": "code",
   "execution_count": 8,
   "metadata": {},
   "outputs": [],
   "source": [
    "# Process HH\n",
    "HH_pool, HH_main_pool = cross_check_between_2_pools(pool1=pools_ref[HH_TAG], pool2=pools_ref[\"HH-Main\"], considered_atts=hh_atts)\n",
    "pools_ref[HH_TAG] = HH_pool\n",
    "pools_ref[\"HH-Main\"] = HH_main_pool"
   ]
  },
  {
   "cell_type": "code",
   "execution_count": 9,
   "metadata": {},
   "outputs": [],
   "source": [
    "# Process Main\n",
    "store_main = []\n",
    "for rela in all_rela:\n",
    "    if rela != \"Main\":\n",
    "        pool_main = pools_ref[\"HH-Main\"][pools_ref[\"HH-Main\"][rela]>0]\n",
    "        pool_rela = pools_ref[f\"Main-{rela}\"]\n",
    "        considered_atts = [f\"{x}_Main\" for x in pp_atts]\n",
    "        result_main, result_rela = cross_check_between_2_pools(pool1=pool_main, pool2=pool_rela, considered_atts=considered_atts)\n",
    "        store_main.append(result_main)\n",
    "        pools_ref[f\"Main-{rela}\"] = result_rela\n",
    "pools_ref[\"HH-Main\"] = pd.concat(store_main)"
   ]
  },
  {
   "cell_type": "code",
   "execution_count": 10,
   "metadata": {},
   "outputs": [],
   "source": [
    "# to_consider_tags = [HH_TAG, \"Main\"]\n",
    "# for tag in to_consider_tags:\n",
    "#     considered_atts = hh_atts if tag == HH_TAG else [f\"{x}_{tag}\" for x in pp_atts]\n",
    "#     related_pool_names = [x for x in pools_ref.keys() if tag in x]\n",
    "#     possible_comb = []\n",
    "#     for pool_name in related_pool_names:\n",
    "#         print(f\"Processing {pool_name} for {tag}\")\n",
    "#         pool = pools_ref[pool_name].copy(deep=True)\n",
    "#         assert set(considered_atts) <= set(pool.columns)\n",
    "#         converted_pool = pool.set_index(considered_atts)\n",
    "#         possible_comb.append(set(converted_pool.index))\n",
    "#     possible_comb = set.intersection(*possible_comb)\n",
    "#     # update the pool, removing not matched combinations\n",
    "#     for pool_name in related_pool_names:\n",
    "#         pool = pools_ref[pool_name].copy(deep=True)\n",
    "#         converted_pool = pool.set_index(considered_atts)\n",
    "#         pools_ref[pool_name] = converted_pool.loc[list(possible_comb)].reset_index()"
   ]
  },
  {
   "cell_type": "code",
   "execution_count": 11,
   "metadata": {},
   "outputs": [],
   "source": [
    "with open(processed_dir / \"dict_pool_pairs_check_HH_main.pickle\", \"wb\") as handle:\n",
    "    pickle.dump(pools_ref, handle, protocol=pickle.HIGHEST_PROTOCOL)"
   ]
  },
  {
   "cell_type": "code",
   "execution_count": null,
   "metadata": {},
   "outputs": [],
   "source": []
  }
 ],
 "metadata": {
  "kernelspec": {
   "display_name": "popsyn",
   "language": "python",
   "name": "python3"
  },
  "language_info": {
   "codemirror_mode": {
    "name": "ipython",
    "version": 3
   },
   "file_extension": ".py",
   "mimetype": "text/x-python",
   "name": "python",
   "nbconvert_exporter": "python",
   "pygments_lexer": "ipython3",
   "version": "3.9.18"
  }
 },
 "nbformat": 4,
 "nbformat_minor": 2
}
