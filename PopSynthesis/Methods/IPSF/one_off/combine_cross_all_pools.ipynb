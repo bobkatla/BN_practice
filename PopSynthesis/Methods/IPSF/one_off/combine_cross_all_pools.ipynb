{
 "cells": [
  {
   "cell_type": "markdown",
   "metadata": {},
   "source": [
    "# Combine all existing pools to check for shared combinations"
   ]
  },
  {
   "cell_type": "code",
   "execution_count": 1,
   "metadata": {},
   "outputs": [],
   "source": [
    "%load_ext autoreload\n",
    "%autoreload 2"
   ]
  },
  {
   "cell_type": "code",
   "execution_count": 2,
   "metadata": {},
   "outputs": [],
   "source": [
    "import pandas as pd\n",
    "import pickle\n",
    "from PopSynthesis.Methods.IPSF.const import (\n",
    "    HH_TAG,\n",
    "    HH_ATTS,\n",
    "    PP_ATTS,\n",
    "    NOT_INCLUDED_IN_BN_LEARN,\n",
    "    processed_dir\n",
    ")"
   ]
  },
  {
   "cell_type": "code",
   "execution_count": 3,
   "metadata": {},
   "outputs": [],
   "source": [
    "hh_pool = pd.read_csv(processed_dir / \"HH_pool.csv\")\n",
    "with open(processed_dir / \"dict_pool_pairs_by_layers.pickle\", \"rb\") as handle:\n",
    "    pools_ref = pickle.load(handle)"
   ]
  },
  {
   "cell_type": "code",
   "execution_count": 4,
   "metadata": {},
   "outputs": [],
   "source": [
    "pools_ref[HH_TAG] = hh_pool"
   ]
  },
  {
   "cell_type": "code",
   "execution_count": 5,
   "metadata": {},
   "outputs": [
    {
     "data": {
      "text/plain": [
       "{'Child',\n",
       " 'Grandchild',\n",
       " 'Grandparent',\n",
       " 'HH',\n",
       " 'Main',\n",
       " 'Others',\n",
       " 'Parent',\n",
       " 'Sibling',\n",
       " 'Spouse'}"
      ]
     },
     "execution_count": 5,
     "metadata": {},
     "output_type": "execute_result"
    }
   ],
   "source": [
    "all_rela = set(x.split(\"-\")[-1] for x in pools_ref.keys())\n",
    "all_rela"
   ]
  },
  {
   "cell_type": "code",
   "execution_count": 6,
   "metadata": {},
   "outputs": [],
   "source": [
    "pp_atts = [x for x in PP_ATTS if x not in NOT_INCLUDED_IN_BN_LEARN]\n",
    "hh_atts = [x for x in HH_ATTS if x not in NOT_INCLUDED_IN_BN_LEARN]"
   ]
  },
  {
   "cell_type": "code",
   "execution_count": 7,
   "metadata": {},
   "outputs": [],
   "source": [
    "to_consider_tags = [HH_TAG, \"Main\"]"
   ]
  },
  {
   "cell_type": "code",
   "execution_count": 10,
   "metadata": {},
   "outputs": [
    {
     "name": "stdout",
     "output_type": "stream",
     "text": [
      "Processing HH-Main for HH\n",
      "Processing HH for HH\n",
      "Processing HH-Main for Main\n",
      "Processing Main-Spouse for Main\n",
      "Processing Main-Child for Main\n",
      "Processing Main-Parent for Main\n",
      "Processing Main-Sibling for Main\n",
      "Processing Main-Others for Main\n",
      "Processing Main-Grandchild for Main\n",
      "Processing Main-Grandparent for Main\n"
     ]
    }
   ],
   "source": [
    "for tag in to_consider_tags:\n",
    "    considered_atts = hh_atts if tag == HH_TAG else [f\"{x}_{tag}\" for x in pp_atts]\n",
    "    related_pool_names = [x for x in pools_ref.keys() if tag in x]\n",
    "    possible_comb = []\n",
    "    for pool_name in related_pool_names:\n",
    "        print(f\"Processing {pool_name} for {tag}\")\n",
    "        pool = pools_ref[pool_name].copy(deep=True)\n",
    "        assert set(considered_atts) <= set(pool.columns)\n",
    "        converted_pool = pool.set_index(considered_atts)\n",
    "        possible_comb.append(set(converted_pool.index))\n",
    "    possible_comb = set.intersection(*possible_comb)\n",
    "    # update the pool, removing not matched combinations\n",
    "    for pool_name in related_pool_names:\n",
    "        pool = pools_ref[pool_name].copy(deep=True)\n",
    "        converted_pool = pool.set_index(considered_atts)\n",
    "        pools_ref[pool_name] = converted_pool.loc[list(possible_comb)].reset_index()"
   ]
  },
  {
   "cell_type": "code",
   "execution_count": 11,
   "metadata": {},
   "outputs": [
    {
     "data": {
      "text/html": [
       "<div>\n",
       "<style scoped>\n",
       "    .dataframe tbody tr th:only-of-type {\n",
       "        vertical-align: middle;\n",
       "    }\n",
       "\n",
       "    .dataframe tbody tr th {\n",
       "        vertical-align: top;\n",
       "    }\n",
       "\n",
       "    .dataframe thead th {\n",
       "        text-align: right;\n",
       "    }\n",
       "</style>\n",
       "<table border=\"1\" class=\"dataframe\">\n",
       "  <thead>\n",
       "    <tr style=\"text-align: right;\">\n",
       "      <th></th>\n",
       "      <th>dwelltype</th>\n",
       "      <th>owndwell</th>\n",
       "      <th>hhinc</th>\n",
       "      <th>totalvehs</th>\n",
       "      <th>hhsize</th>\n",
       "    </tr>\n",
       "  </thead>\n",
       "  <tbody>\n",
       "    <tr>\n",
       "      <th>0</th>\n",
       "      <td>Other</td>\n",
       "      <td>Something Else</td>\n",
       "      <td>3500-3999</td>\n",
       "      <td>0</td>\n",
       "      <td>4</td>\n",
       "    </tr>\n",
       "    <tr>\n",
       "      <th>1</th>\n",
       "      <td>Other</td>\n",
       "      <td>Something Else</td>\n",
       "      <td>3500-3999</td>\n",
       "      <td>0</td>\n",
       "      <td>4</td>\n",
       "    </tr>\n",
       "    <tr>\n",
       "      <th>2</th>\n",
       "      <td>Other</td>\n",
       "      <td>Something Else</td>\n",
       "      <td>3500-3999</td>\n",
       "      <td>0</td>\n",
       "      <td>4</td>\n",
       "    </tr>\n",
       "    <tr>\n",
       "      <th>3</th>\n",
       "      <td>Terrace/Townhouse</td>\n",
       "      <td>Being Purchased</td>\n",
       "      <td>500-649</td>\n",
       "      <td>0</td>\n",
       "      <td>5</td>\n",
       "    </tr>\n",
       "    <tr>\n",
       "      <th>4</th>\n",
       "      <td>Terrace/Townhouse</td>\n",
       "      <td>Being Rented</td>\n",
       "      <td>650-799</td>\n",
       "      <td>2</td>\n",
       "      <td>4</td>\n",
       "    </tr>\n",
       "    <tr>\n",
       "      <th>...</th>\n",
       "      <td>...</td>\n",
       "      <td>...</td>\n",
       "      <td>...</td>\n",
       "      <td>...</td>\n",
       "      <td>...</td>\n",
       "    </tr>\n",
       "    <tr>\n",
       "      <th>4997023</th>\n",
       "      <td>Terrace/Townhouse</td>\n",
       "      <td>Being Purchased</td>\n",
       "      <td>400-499</td>\n",
       "      <td>2</td>\n",
       "      <td>1</td>\n",
       "    </tr>\n",
       "    <tr>\n",
       "      <th>4997024</th>\n",
       "      <td>Terrace/Townhouse</td>\n",
       "      <td>Being Purchased</td>\n",
       "      <td>400-499</td>\n",
       "      <td>2</td>\n",
       "      <td>1</td>\n",
       "    </tr>\n",
       "    <tr>\n",
       "      <th>4997025</th>\n",
       "      <td>Terrace/Townhouse</td>\n",
       "      <td>Being Purchased</td>\n",
       "      <td>400-499</td>\n",
       "      <td>2</td>\n",
       "      <td>1</td>\n",
       "    </tr>\n",
       "    <tr>\n",
       "      <th>4997026</th>\n",
       "      <td>Flat or Apartment</td>\n",
       "      <td>Something Else</td>\n",
       "      <td>3000-3499</td>\n",
       "      <td>3</td>\n",
       "      <td>2</td>\n",
       "    </tr>\n",
       "    <tr>\n",
       "      <th>4997027</th>\n",
       "      <td>Flat or Apartment</td>\n",
       "      <td>Something Else</td>\n",
       "      <td>3000-3499</td>\n",
       "      <td>3</td>\n",
       "      <td>2</td>\n",
       "    </tr>\n",
       "  </tbody>\n",
       "</table>\n",
       "<p>4997028 rows × 5 columns</p>\n",
       "</div>"
      ],
      "text/plain": [
       "                 dwelltype         owndwell      hhinc totalvehs hhsize\n",
       "0                    Other   Something Else  3500-3999         0      4\n",
       "1                    Other   Something Else  3500-3999         0      4\n",
       "2                    Other   Something Else  3500-3999         0      4\n",
       "3        Terrace/Townhouse  Being Purchased    500-649         0      5\n",
       "4        Terrace/Townhouse     Being Rented    650-799         2      4\n",
       "...                    ...              ...        ...       ...    ...\n",
       "4997023  Terrace/Townhouse  Being Purchased    400-499         2      1\n",
       "4997024  Terrace/Townhouse  Being Purchased    400-499         2      1\n",
       "4997025  Terrace/Townhouse  Being Purchased    400-499         2      1\n",
       "4997026  Flat or Apartment   Something Else  3000-3499         3      2\n",
       "4997027  Flat or Apartment   Something Else  3000-3499         3      2\n",
       "\n",
       "[4997028 rows x 5 columns]"
      ]
     },
     "execution_count": 11,
     "metadata": {},
     "output_type": "execute_result"
    }
   ],
   "source": [
    "pools_ref[\"HH\"]"
   ]
  },
  {
   "cell_type": "code",
   "execution_count": 12,
   "metadata": {},
   "outputs": [],
   "source": [
    "with open(processed_dir / \"dict_pool_pairs_check_HH_main.pickle\", \"wb\") as handle:\n",
    "    pickle.dump(pools_ref, handle, protocol=pickle.HIGHEST_PROTOCOL)"
   ]
  },
  {
   "cell_type": "code",
   "execution_count": null,
   "metadata": {},
   "outputs": [],
   "source": []
  }
 ],
 "metadata": {
  "kernelspec": {
   "display_name": "popsyn",
   "language": "python",
   "name": "python3"
  },
  "language_info": {
   "codemirror_mode": {
    "name": "ipython",
    "version": 3
   },
   "file_extension": ".py",
   "mimetype": "text/x-python",
   "name": "python",
   "nbconvert_exporter": "python",
   "pygments_lexer": "ipython3",
   "version": "3.9.18"
  }
 },
 "nbformat": 4,
 "nbformat_minor": 2
}
