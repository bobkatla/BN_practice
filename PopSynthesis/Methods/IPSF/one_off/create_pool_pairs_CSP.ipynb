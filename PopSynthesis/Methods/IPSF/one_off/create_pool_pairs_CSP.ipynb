{
 "cells": [
  {
   "cell_type": "code",
   "execution_count": 1,
   "metadata": {},
   "outputs": [],
   "source": [
    "%load_ext autoreload\n",
    "%autoreload 2"
   ]
  },
  {
   "cell_type": "code",
   "execution_count": 2,
   "metadata": {},
   "outputs": [],
   "source": [
    "import pandas as pd\n",
    "import pickle\n",
    "from PopSynthesis.Methods.IPSF.const import (\n",
    "    processed_dir,\n",
    "    data_dir,\n",
    "    PP_ATTS,\n",
    "    HH_TAG,\n",
    "    POOL_SIZE,\n",
    "    NOT_INCLUDED_IN_BN_LEARN,\n",
    ")\n",
    "from PopSynthesis.Methods.IPSF.CSP.operations.convert_seeds import pair_states_dict, convert_seeds_by_ordered_pairs\n",
    "from PopSynthesis.Methods.IPSF.utils.pool_utils import create_pool\n",
    "from PopSynthesis.DataProcessor.utils.seed.pp.process_relationships import MIN_PARENT_CHILD_GAP\n",
    "from PopSynthesis.Methods.IPSF.CSP.operations.extra_filters import filter_mismatch_hhsz, filter_paired_pool_agegr"
   ]
  },
  {
   "cell_type": "code",
   "execution_count": 3,
   "metadata": {},
   "outputs": [],
   "source": [
    "# get the data\n",
    "hh_marg = pd.read_csv(data_dir / \"hh_marginals_ipu.csv\", header=[0, 1])\n",
    "hh_seed = pd.read_csv(data_dir / \"hh_sample_ipu.csv\").drop(columns=[\"sample_geog\"])\n",
    "pp_seed = pd.read_csv(data_dir / \"pp_sample_ipu.csv\").drop(columns=[\"sample_geog\"])\n",
    "with open(processed_dir / \"dict_hh_states.pickle\", \"rb\") as handle:\n",
    "    hh_att_state = pickle.load(handle)\n",
    "with open(processed_dir / \"dict_pp_states.pickle\", \"rb\") as handle:\n",
    "    pp_att_state = pickle.load(handle)"
   ]
  },
  {
   "cell_type": "code",
   "execution_count": 4,
   "metadata": {},
   "outputs": [],
   "source": [
    "hh_marg = hh_marg.drop(columns=hh_marg.columns[hh_marg.columns.get_level_values(0)==\"sample_geog\"][0])\n",
    "# vars\n",
    "rela_col = \"relationship\"\n",
    "id_col = \"serialno\"\n",
    "main_rela = \"Main\"\n",
    "hh_tag = HH_TAG"
   ]
  },
  {
   "cell_type": "code",
   "execution_count": 5,
   "metadata": {},
   "outputs": [],
   "source": [
    "ordered_pairs =[\n",
    "    [\n",
    "        (\"HH\", \"Main\")\n",
    "    ],\n",
    "    [\n",
    "        (\"Main\", \"Spouse\"), \n",
    "        (\"Main\", \"Child\"), \n",
    "        (\"Main\", \"Parent\")\n",
    "    ], \n",
    "    [\n",
    "        (\"Child\", \"Grandchild\"), \n",
    "        (\"Parent\", \"Grandparent\")\n",
    "    ]\n",
    "]"
   ]
  },
  {
   "cell_type": "code",
   "execution_count": 6,
   "metadata": {},
   "outputs": [],
   "source": [
    "# process seed\n",
    "seed_pairs = convert_seeds_by_ordered_pairs(ordered_pairs, hh_seed, pp_seed, id_col, rela_col, main_rela)"
   ]
  },
  {
   "cell_type": "code",
   "execution_count": 7,
   "metadata": {},
   "outputs": [],
   "source": [
    "seed_pairs[\"Parent-Grandparent\"] = filter_paired_pool_agegr(pool=seed_pairs[\"Parent-Grandparent\"], agegr_col_younger=f\"age_Parent\", agegr_col_older=f\"age_Grandparent\", min_gap=MIN_PARENT_CHILD_GAP)\n",
    "seed_pairs[\"Child-Grandchild\"] = filter_paired_pool_agegr(pool=seed_pairs[\"Child-Grandchild\"], agegr_col_younger=f\"age_Grandchild\", agegr_col_older=f\"age_Child\", min_gap=MIN_PARENT_CHILD_GAP)"
   ]
  },
  {
   "cell_type": "code",
   "execution_count": 8,
   "metadata": {},
   "outputs": [],
   "source": [
    "# process seed\n",
    "# seed_pairs = convert_seeds_to_pairs(hh_seed, pp_seed, id_col, rela_col, main_rela)\n",
    "\n",
    "# # Filter to remove cases of wrong age-group for these 4 special\n",
    "# for rela in [\"Grandchild\", \"Child\", \"Parent\", \"Grandparent\"]:\n",
    "#     min_gap = MIN_GRANDPARENT_GRANDCHILD_GAP if rela in [\"Grandchild\", \"Grandparent\"] else MIN_PARENT_CHILD_GAP\n",
    "#     main_age_col = f\"age_{main_rela}\"\n",
    "#     rela_age_col = f\"age_{rela}\"\n",
    "#     older_age_col = main_age_col if rela in [\"Grandchild\", \"Child\"] else rela_age_col\n",
    "#     younger_age_col = main_age_col if rela in [\"Parent\", \"Grandparent\"] else rela_age_col\n",
    "#     assert younger_age_col != older_age_col\n",
    "#     pools_ref[f\"{main_rela}-{rela}\"] = filter_paired_pool_agegr(pool=pools_ref[f\"{main_rela}-{rela}\"], agegr_col_younger=younger_age_col, agegr_col_older=older_age_col, min_gap=min_gap)"
   ]
  },
  {
   "cell_type": "code",
   "execution_count": 9,
   "metadata": {},
   "outputs": [
    {
     "name": "stdout",
     "output_type": "stream",
     "text": [
      "Learn BN\n"
     ]
    },
    {
     "data": {
      "application/json": {
       "ascii": false,
       "bar_format": null,
       "colour": null,
       "elapsed": 0.014998674392700195,
       "initial": 0,
       "n": 0,
       "ncols": null,
       "nrows": null,
       "postfix": null,
       "prefix": "",
       "rate": null,
       "total": 1000000,
       "unit": "it",
       "unit_divisor": 1000,
       "unit_scale": false
      },
      "application/vnd.jupyter.widget-view+json": {
       "model_id": "926c0fd1bd0d49818a73065604ea481b",
       "version_major": 2,
       "version_minor": 0
      },
      "text/plain": [
       "  0%|          | 0/1000000 [00:00<?, ?it/s]"
      ]
     },
     "metadata": {},
     "output_type": "display_data"
    },
    {
     "name": "stdout",
     "output_type": "stream",
     "text": [
      "Doing the sampling\n"
     ]
    },
    {
     "data": {
      "application/json": {
       "ascii": false,
       "bar_format": null,
       "colour": null,
       "elapsed": 0.014002323150634766,
       "initial": 0,
       "n": 0,
       "ncols": null,
       "nrows": null,
       "postfix": null,
       "prefix": "",
       "rate": null,
       "total": 18,
       "unit": "it",
       "unit_divisor": 1000,
       "unit_scale": false
      },
      "application/vnd.jupyter.widget-view+json": {
       "model_id": "82e25b7c21e14fecba995c9edc9bc01b",
       "version_major": 2,
       "version_minor": 0
      },
      "text/plain": [
       "  0%|          | 0/18 [00:00<?, ?it/s]"
      ]
     },
     "metadata": {},
     "output_type": "display_data"
    },
    {
     "name": "stdout",
     "output_type": "stream",
     "text": [
      "Learn BN\n"
     ]
    },
    {
     "data": {
      "application/json": {
       "ascii": false,
       "bar_format": null,
       "colour": null,
       "elapsed": 0.011961698532104492,
       "initial": 0,
       "n": 0,
       "ncols": null,
       "nrows": null,
       "postfix": null,
       "prefix": "",
       "rate": null,
       "total": 1000000,
       "unit": "it",
       "unit_divisor": 1000,
       "unit_scale": false
      },
      "application/vnd.jupyter.widget-view+json": {
       "model_id": "cc733dae96994cc7a9c1b3e8de292110",
       "version_major": 2,
       "version_minor": 0
      },
      "text/plain": [
       "  0%|          | 0/1000000 [00:00<?, ?it/s]"
      ]
     },
     "metadata": {},
     "output_type": "display_data"
    },
    {
     "name": "stdout",
     "output_type": "stream",
     "text": [
      "Doing the sampling\n"
     ]
    },
    {
     "data": {
      "application/json": {
       "ascii": false,
       "bar_format": null,
       "colour": null,
       "elapsed": 0.011998891830444336,
       "initial": 0,
       "n": 0,
       "ncols": null,
       "nrows": null,
       "postfix": null,
       "prefix": "",
       "rate": null,
       "total": 10,
       "unit": "it",
       "unit_divisor": 1000,
       "unit_scale": false
      },
      "application/vnd.jupyter.widget-view+json": {
       "model_id": "7913a425b2a545178bc5bc63393b97a4",
       "version_major": 2,
       "version_minor": 0
      },
      "text/plain": [
       "  0%|          | 0/10 [00:00<?, ?it/s]"
      ]
     },
     "metadata": {},
     "output_type": "display_data"
    },
    {
     "name": "stdout",
     "output_type": "stream",
     "text": [
      "Learn BN\n"
     ]
    },
    {
     "data": {
      "application/json": {
       "ascii": false,
       "bar_format": null,
       "colour": null,
       "elapsed": 0.011000871658325195,
       "initial": 0,
       "n": 0,
       "ncols": null,
       "nrows": null,
       "postfix": null,
       "prefix": "",
       "rate": null,
       "total": 1000000,
       "unit": "it",
       "unit_divisor": 1000,
       "unit_scale": false
      },
      "application/vnd.jupyter.widget-view+json": {
       "model_id": "7541437da8784ea8b065b6451a53d9db",
       "version_major": 2,
       "version_minor": 0
      },
      "text/plain": [
       "  0%|          | 0/1000000 [00:00<?, ?it/s]"
      ]
     },
     "metadata": {},
     "output_type": "display_data"
    },
    {
     "name": "stdout",
     "output_type": "stream",
     "text": [
      "Doing the sampling\n"
     ]
    },
    {
     "data": {
      "application/json": {
       "ascii": false,
       "bar_format": null,
       "colour": null,
       "elapsed": 0.012001514434814453,
       "initial": 0,
       "n": 0,
       "ncols": null,
       "nrows": null,
       "postfix": null,
       "prefix": "",
       "rate": null,
       "total": 10,
       "unit": "it",
       "unit_divisor": 1000,
       "unit_scale": false
      },
      "application/vnd.jupyter.widget-view+json": {
       "model_id": "8a8bb9ec7d0b4831972a5468decf6bcf",
       "version_major": 2,
       "version_minor": 0
      },
      "text/plain": [
       "  0%|          | 0/10 [00:00<?, ?it/s]"
      ]
     },
     "metadata": {},
     "output_type": "display_data"
    },
    {
     "name": "stdout",
     "output_type": "stream",
     "text": [
      "Learn BN\n"
     ]
    },
    {
     "data": {
      "application/json": {
       "ascii": false,
       "bar_format": null,
       "colour": null,
       "elapsed": 0.012003660202026367,
       "initial": 0,
       "n": 0,
       "ncols": null,
       "nrows": null,
       "postfix": null,
       "prefix": "",
       "rate": null,
       "total": 1000000,
       "unit": "it",
       "unit_divisor": 1000,
       "unit_scale": false
      },
      "application/vnd.jupyter.widget-view+json": {
       "model_id": "10b8bd502e7846df8773bf103c2b3205",
       "version_major": 2,
       "version_minor": 0
      },
      "text/plain": [
       "  0%|          | 0/1000000 [00:00<?, ?it/s]"
      ]
     },
     "metadata": {},
     "output_type": "display_data"
    },
    {
     "name": "stdout",
     "output_type": "stream",
     "text": [
      "Doing the sampling\n"
     ]
    },
    {
     "data": {
      "application/json": {
       "ascii": false,
       "bar_format": null,
       "colour": null,
       "elapsed": 0.011998176574707031,
       "initial": 0,
       "n": 0,
       "ncols": null,
       "nrows": null,
       "postfix": null,
       "prefix": "",
       "rate": null,
       "total": 10,
       "unit": "it",
       "unit_divisor": 1000,
       "unit_scale": false
      },
      "application/vnd.jupyter.widget-view+json": {
       "model_id": "8b7cf19e673144f1998fb19cdc4872aa",
       "version_major": 2,
       "version_minor": 0
      },
      "text/plain": [
       "  0%|          | 0/10 [00:00<?, ?it/s]"
      ]
     },
     "metadata": {},
     "output_type": "display_data"
    },
    {
     "name": "stdout",
     "output_type": "stream",
     "text": [
      "Learn BN\n"
     ]
    },
    {
     "data": {
      "application/json": {
       "ascii": false,
       "bar_format": null,
       "colour": null,
       "elapsed": 0.017000198364257812,
       "initial": 0,
       "n": 0,
       "ncols": null,
       "nrows": null,
       "postfix": null,
       "prefix": "",
       "rate": null,
       "total": 1000000,
       "unit": "it",
       "unit_divisor": 1000,
       "unit_scale": false
      },
      "application/vnd.jupyter.widget-view+json": {
       "model_id": "b3a8fb881f3d4c288e04ff2688c5506a",
       "version_major": 2,
       "version_minor": 0
      },
      "text/plain": [
       "  0%|          | 0/1000000 [00:00<?, ?it/s]"
      ]
     },
     "metadata": {},
     "output_type": "display_data"
    },
    {
     "name": "stdout",
     "output_type": "stream",
     "text": [
      "Doing the sampling\n"
     ]
    },
    {
     "data": {
      "application/json": {
       "ascii": false,
       "bar_format": null,
       "colour": null,
       "elapsed": 0.01298832893371582,
       "initial": 0,
       "n": 0,
       "ncols": null,
       "nrows": null,
       "postfix": null,
       "prefix": "",
       "rate": null,
       "total": 10,
       "unit": "it",
       "unit_divisor": 1000,
       "unit_scale": false
      },
      "application/vnd.jupyter.widget-view+json": {
       "model_id": "9b1ca2cd0286480ab5a6d06eeca1e5dc",
       "version_major": 2,
       "version_minor": 0
      },
      "text/plain": [
       "  0%|          | 0/10 [00:00<?, ?it/s]"
      ]
     },
     "metadata": {},
     "output_type": "display_data"
    },
    {
     "name": "stdout",
     "output_type": "stream",
     "text": [
      "Learn BN\n"
     ]
    },
    {
     "data": {
      "application/json": {
       "ascii": false,
       "bar_format": null,
       "colour": null,
       "elapsed": 0.015998125076293945,
       "initial": 0,
       "n": 0,
       "ncols": null,
       "nrows": null,
       "postfix": null,
       "prefix": "",
       "rate": null,
       "total": 1000000,
       "unit": "it",
       "unit_divisor": 1000,
       "unit_scale": false
      },
      "application/vnd.jupyter.widget-view+json": {
       "model_id": "99b497e045d1406d80ead738fa9bdcd4",
       "version_major": 2,
       "version_minor": 0
      },
      "text/plain": [
       "  0%|          | 0/1000000 [00:00<?, ?it/s]"
      ]
     },
     "metadata": {},
     "output_type": "display_data"
    },
    {
     "name": "stdout",
     "output_type": "stream",
     "text": [
      "Doing the sampling\n"
     ]
    },
    {
     "data": {
      "application/json": {
       "ascii": false,
       "bar_format": null,
       "colour": null,
       "elapsed": 0.011999368667602539,
       "initial": 0,
       "n": 0,
       "ncols": null,
       "nrows": null,
       "postfix": null,
       "prefix": "",
       "rate": null,
       "total": 10,
       "unit": "it",
       "unit_divisor": 1000,
       "unit_scale": false
      },
      "application/vnd.jupyter.widget-view+json": {
       "model_id": "801d8f2771734dfa9f5077dbdd9e2b22",
       "version_major": 2,
       "version_minor": 0
      },
      "text/plain": [
       "  0%|          | 0/10 [00:00<?, ?it/s]"
      ]
     },
     "metadata": {},
     "output_type": "display_data"
    }
   ],
   "source": [
    "# create pools\n",
    "pools_ref = {}\n",
    "for pair_name, pair_seed in seed_pairs.items():\n",
    "    name1, name2 = pair_name.split(\"-\")\n",
    "    ori_states_1 = hh_att_state if name1 == hh_tag else pp_att_state\n",
    "    ori_states_2 = pp_att_state # because the second one always people\n",
    "    processed_states_ref = pair_states_dict(ori_states_1, ori_states_2, name1, name2)\n",
    "    # we only need matching columns that we wish to process for BN\n",
    "    # this excludes relationship and ids\n",
    "    assert set(processed_states_ref.keys()) <= set(pair_seed.columns)\n",
    "    to_filter_col = list(processed_states_ref.keys())\n",
    "    if name1 == \"HH\":\n",
    "        # special case to add the rela cols\n",
    "        to_filter_col += list(pp_seed[rela_col].unique())\n",
    "    filtered_seed = pair_seed[to_filter_col]\n",
    "    pools_ref[pair_name] = create_pool(filtered_seed, state_names=processed_states_ref, pool_sz=POOL_SIZE)"
   ]
  },
  {
   "cell_type": "code",
   "execution_count": 11,
   "metadata": {},
   "outputs": [],
   "source": [
    "pp_atts = list(set(PP_ATTS) - set(NOT_INCLUDED_IN_BN_LEARN))\n",
    "all_rela = [x.split(\"-\")[-1] for x in pools_ref.keys()]"
   ]
  },
  {
   "cell_type": "code",
   "execution_count": 12,
   "metadata": {},
   "outputs": [],
   "source": [
    "# Rename HH-Main and filter mismatch by hhszie\n",
    "rename_main = {x: f\"{x}_{main_rela}\" for x in pp_atts}\n",
    "pools_ref[f\"{hh_tag}-{main_rela}\"] = pools_ref[f\"{hh_tag}-{main_rela}\"].rename(columns=rename_main)\n",
    "pools_ref[f\"{hh_tag}-{main_rela}\"] = filter_mismatch_hhsz(\n",
    "    pools_ref[f\"{hh_tag}-{main_rela}\"], \"hhsize\", all_rela\n",
    ")"
   ]
  },
  {
   "cell_type": "code",
   "execution_count": 13,
   "metadata": {},
   "outputs": [],
   "source": [
    "# Process from Main\n",
    "for rela in [\"Child\", \"Parent\"]:\n",
    "    min_gap = MIN_PARENT_CHILD_GAP\n",
    "    main_age_col = f\"age_{main_rela}\"\n",
    "    rela_age_col = f\"age_{rela}\"\n",
    "    older_age_col = main_age_col if rela == \"Child\" else rela_age_col\n",
    "    younger_age_col = main_age_col if rela == \"Parent\" else rela_age_col\n",
    "    assert younger_age_col != older_age_col\n",
    "    pools_ref[f\"{main_rela}-{rela}\"] = filter_paired_pool_agegr(pool=pools_ref[f\"{main_rela}-{rela}\"], agegr_col_younger=younger_age_col, agegr_col_older=older_age_col, min_gap=min_gap)"
   ]
  },
  {
   "cell_type": "code",
   "execution_count": 14,
   "metadata": {},
   "outputs": [],
   "source": [
    "for root_rela, sample_rela in ordered_pairs[-1]:\n",
    "    root_age_col = f\"age_{root_rela}\"\n",
    "    sample_age_col = f\"age_{sample_rela}\"\n",
    "    older_age_col = root_age_col if sample_rela == \"Grandchild\" else sample_age_col\n",
    "    younger_age_col = root_age_col if sample_rela == \"Grandparent\" else sample_age_col\n",
    "    min_gap = MIN_PARENT_CHILD_GAP\n",
    "    pools_ref[f\"{root_rela}-{sample_rela}\"] = filter_paired_pool_agegr(pool=pools_ref[f\"{root_rela}-{sample_rela}\"], agegr_col_younger=younger_age_col, agegr_col_older=older_age_col, min_gap=min_gap)"
   ]
  },
  {
   "cell_type": "code",
   "execution_count": 15,
   "metadata": {},
   "outputs": [],
   "source": [
    "with open(processed_dir / \"dict_pool_pairs_by_layers.pickle\", \"wb\") as handle:\n",
    "    pickle.dump(pools_ref, handle, protocol=pickle.HIGHEST_PROTOCOL)"
   ]
  },
  {
   "cell_type": "code",
   "execution_count": null,
   "metadata": {},
   "outputs": [],
   "source": []
  }
 ],
 "metadata": {
  "kernelspec": {
   "display_name": "popsyn",
   "language": "python",
   "name": "python3"
  },
  "language_info": {
   "codemirror_mode": {
    "name": "ipython",
    "version": 3
   },
   "file_extension": ".py",
   "mimetype": "text/x-python",
   "name": "python",
   "nbconvert_exporter": "python",
   "pygments_lexer": "ipython3",
   "version": "3.9.18"
  }
 },
 "nbformat": 4,
 "nbformat_minor": 2
}
