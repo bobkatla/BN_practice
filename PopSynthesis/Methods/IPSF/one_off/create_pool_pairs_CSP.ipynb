{
 "cells": [
  {
   "cell_type": "code",
   "execution_count": 1,
   "metadata": {},
   "outputs": [],
   "source": [
    "import pandas as pd\n",
    "import pickle\n",
    "from PopSynthesis.Methods.IPSF.const import data_dir, POOL_SIZE, processed_dir\n",
    "from PopSynthesis.Methods.IPSF.CSP.operations.convert_seeds import convert_seeds_to_pairs, pair_states_dict\n",
    "from PopSynthesis.Methods.IPSF.utils.pool_utils import create_pool"
   ]
  },
  {
   "cell_type": "code",
   "execution_count": 2,
   "metadata": {},
   "outputs": [],
   "source": [
    "# get the data\n",
    "hh_marg = pd.read_csv(data_dir / \"hh_marginals_ipu.csv\", header=[0, 1])\n",
    "hh_seed = pd.read_csv(data_dir / \"hh_sample_ipu.csv\").drop(columns=[\"sample_geog\"])\n",
    "pp_seed = pd.read_csv(data_dir / \"pp_sample_ipu.csv\").drop(columns=[\"sample_geog\"])\n",
    "with open(processed_dir / \"dict_hh_states.pickle\", \"rb\") as handle:\n",
    "    hh_att_state = pickle.load(handle)\n",
    "with open(processed_dir / \"dict_pp_states.pickle\", \"rb\") as handle:\n",
    "    pp_att_state = pickle.load(handle)"
   ]
  },
  {
   "cell_type": "code",
   "execution_count": 3,
   "metadata": {},
   "outputs": [],
   "source": [
    "hh_marg = hh_marg.drop(columns=hh_marg.columns[hh_marg.columns.get_level_values(0)==\"sample_geog\"][0])\n",
    "# vars\n",
    "rela_col = \"relationship\"\n",
    "id_col = \"serialno\"\n",
    "main_rela = \"Main\""
   ]
  },
  {
   "cell_type": "code",
   "execution_count": 4,
   "metadata": {},
   "outputs": [],
   "source": [
    "# process seed\n",
    "seed_pairs = convert_seeds_to_pairs(hh_seed, pp_seed, id_col, rela_col, main_rela)"
   ]
  },
  {
   "cell_type": "code",
   "execution_count": 5,
   "metadata": {},
   "outputs": [
    {
     "name": "stdout",
     "output_type": "stream",
     "text": [
      "Learn BN\n"
     ]
    },
    {
     "data": {
      "application/json": {
       "ascii": false,
       "bar_format": null,
       "colour": null,
       "elapsed": 0.01695728302001953,
       "initial": 0,
       "n": 0,
       "ncols": null,
       "nrows": null,
       "postfix": null,
       "prefix": "",
       "rate": null,
       "total": 1000000,
       "unit": "it",
       "unit_divisor": 1000,
       "unit_scale": false
      },
      "application/vnd.jupyter.widget-view+json": {
       "model_id": "ba84822cf3aa48adad1e13a47dffa17f",
       "version_major": 2,
       "version_minor": 0
      },
      "text/plain": [
       "  0%|          | 0/1000000 [00:00<?, ?it/s]"
      ]
     },
     "metadata": {},
     "output_type": "display_data"
    },
    {
     "name": "stdout",
     "output_type": "stream",
     "text": [
      "Doing the sampling\n"
     ]
    },
    {
     "data": {
      "application/json": {
       "ascii": false,
       "bar_format": null,
       "colour": null,
       "elapsed": 0.014279842376708984,
       "initial": 0,
       "n": 0,
       "ncols": null,
       "nrows": null,
       "postfix": null,
       "prefix": "",
       "rate": null,
       "total": 18,
       "unit": "it",
       "unit_divisor": 1000,
       "unit_scale": false
      },
      "application/vnd.jupyter.widget-view+json": {
       "model_id": "0bb14166b65045329ff626fe11a65436",
       "version_major": 2,
       "version_minor": 0
      },
      "text/plain": [
       "  0%|          | 0/18 [00:00<?, ?it/s]"
      ]
     },
     "metadata": {},
     "output_type": "display_data"
    },
    {
     "name": "stdout",
     "output_type": "stream",
     "text": [
      "Learn BN\n"
     ]
    },
    {
     "data": {
      "application/json": {
       "ascii": false,
       "bar_format": null,
       "colour": null,
       "elapsed": 0.011101961135864258,
       "initial": 0,
       "n": 0,
       "ncols": null,
       "nrows": null,
       "postfix": null,
       "prefix": "",
       "rate": null,
       "total": 1000000,
       "unit": "it",
       "unit_divisor": 1000,
       "unit_scale": false
      },
      "application/vnd.jupyter.widget-view+json": {
       "model_id": "5057e4f86eee4134a44f2e6597060344",
       "version_major": 2,
       "version_minor": 0
      },
      "text/plain": [
       "  0%|          | 0/1000000 [00:00<?, ?it/s]"
      ]
     },
     "metadata": {},
     "output_type": "display_data"
    },
    {
     "name": "stdout",
     "output_type": "stream",
     "text": [
      "Doing the sampling\n"
     ]
    },
    {
     "data": {
      "application/json": {
       "ascii": false,
       "bar_format": null,
       "colour": null,
       "elapsed": 0.01600050926208496,
       "initial": 0,
       "n": 0,
       "ncols": null,
       "nrows": null,
       "postfix": null,
       "prefix": "",
       "rate": null,
       "total": 10,
       "unit": "it",
       "unit_divisor": 1000,
       "unit_scale": false
      },
      "application/vnd.jupyter.widget-view+json": {
       "model_id": "96beb80fb8b14c6eb7ef9394b5885e30",
       "version_major": 2,
       "version_minor": 0
      },
      "text/plain": [
       "  0%|          | 0/10 [00:00<?, ?it/s]"
      ]
     },
     "metadata": {},
     "output_type": "display_data"
    },
    {
     "name": "stdout",
     "output_type": "stream",
     "text": [
      "Learn BN\n"
     ]
    },
    {
     "data": {
      "application/json": {
       "ascii": false,
       "bar_format": null,
       "colour": null,
       "elapsed": 0.011000633239746094,
       "initial": 0,
       "n": 0,
       "ncols": null,
       "nrows": null,
       "postfix": null,
       "prefix": "",
       "rate": null,
       "total": 1000000,
       "unit": "it",
       "unit_divisor": 1000,
       "unit_scale": false
      },
      "application/vnd.jupyter.widget-view+json": {
       "model_id": "435bdb10f0e741f8b86e5ffe19a7775e",
       "version_major": 2,
       "version_minor": 0
      },
      "text/plain": [
       "  0%|          | 0/1000000 [00:00<?, ?it/s]"
      ]
     },
     "metadata": {},
     "output_type": "display_data"
    },
    {
     "name": "stdout",
     "output_type": "stream",
     "text": [
      "Doing the sampling\n"
     ]
    },
    {
     "data": {
      "application/json": {
       "ascii": false,
       "bar_format": null,
       "colour": null,
       "elapsed": 0.011988162994384766,
       "initial": 0,
       "n": 0,
       "ncols": null,
       "nrows": null,
       "postfix": null,
       "prefix": "",
       "rate": null,
       "total": 10,
       "unit": "it",
       "unit_divisor": 1000,
       "unit_scale": false
      },
      "application/vnd.jupyter.widget-view+json": {
       "model_id": "591db7e592e645f7b7b8a8926189bf49",
       "version_major": 2,
       "version_minor": 0
      },
      "text/plain": [
       "  0%|          | 0/10 [00:00<?, ?it/s]"
      ]
     },
     "metadata": {},
     "output_type": "display_data"
    },
    {
     "name": "stdout",
     "output_type": "stream",
     "text": [
      "Learn BN\n"
     ]
    },
    {
     "data": {
      "application/json": {
       "ascii": false,
       "bar_format": null,
       "colour": null,
       "elapsed": 0.011990785598754883,
       "initial": 0,
       "n": 0,
       "ncols": null,
       "nrows": null,
       "postfix": null,
       "prefix": "",
       "rate": null,
       "total": 1000000,
       "unit": "it",
       "unit_divisor": 1000,
       "unit_scale": false
      },
      "application/vnd.jupyter.widget-view+json": {
       "model_id": "f4ef4bb8999540258ca60cd99fffec44",
       "version_major": 2,
       "version_minor": 0
      },
      "text/plain": [
       "  0%|          | 0/1000000 [00:00<?, ?it/s]"
      ]
     },
     "metadata": {},
     "output_type": "display_data"
    },
    {
     "name": "stdout",
     "output_type": "stream",
     "text": [
      "Doing the sampling\n"
     ]
    },
    {
     "data": {
      "application/json": {
       "ascii": false,
       "bar_format": null,
       "colour": null,
       "elapsed": 0.012999773025512695,
       "initial": 0,
       "n": 0,
       "ncols": null,
       "nrows": null,
       "postfix": null,
       "prefix": "",
       "rate": null,
       "total": 10,
       "unit": "it",
       "unit_divisor": 1000,
       "unit_scale": false
      },
      "application/vnd.jupyter.widget-view+json": {
       "model_id": "b21d88148c9a421bb2e648404fb0562b",
       "version_major": 2,
       "version_minor": 0
      },
      "text/plain": [
       "  0%|          | 0/10 [00:00<?, ?it/s]"
      ]
     },
     "metadata": {},
     "output_type": "display_data"
    },
    {
     "name": "stdout",
     "output_type": "stream",
     "text": [
      "Learn BN\n"
     ]
    },
    {
     "data": {
      "application/json": {
       "ascii": false,
       "bar_format": null,
       "colour": null,
       "elapsed": 0.015999794006347656,
       "initial": 0,
       "n": 0,
       "ncols": null,
       "nrows": null,
       "postfix": null,
       "prefix": "",
       "rate": null,
       "total": 1000000,
       "unit": "it",
       "unit_divisor": 1000,
       "unit_scale": false
      },
      "application/vnd.jupyter.widget-view+json": {
       "model_id": "f8b1cbbff4be4bdb8691276f9eb651ae",
       "version_major": 2,
       "version_minor": 0
      },
      "text/plain": [
       "  0%|          | 0/1000000 [00:00<?, ?it/s]"
      ]
     },
     "metadata": {},
     "output_type": "display_data"
    },
    {
     "name": "stdout",
     "output_type": "stream",
     "text": [
      "Doing the sampling\n"
     ]
    },
    {
     "data": {
      "application/json": {
       "ascii": false,
       "bar_format": null,
       "colour": null,
       "elapsed": 0.01107931137084961,
       "initial": 0,
       "n": 0,
       "ncols": null,
       "nrows": null,
       "postfix": null,
       "prefix": "",
       "rate": null,
       "total": 10,
       "unit": "it",
       "unit_divisor": 1000,
       "unit_scale": false
      },
      "application/vnd.jupyter.widget-view+json": {
       "model_id": "9f15de7a083e4a3295a3a075e58df486",
       "version_major": 2,
       "version_minor": 0
      },
      "text/plain": [
       "  0%|          | 0/10 [00:00<?, ?it/s]"
      ]
     },
     "metadata": {},
     "output_type": "display_data"
    },
    {
     "name": "stdout",
     "output_type": "stream",
     "text": [
      "Learn BN\n"
     ]
    },
    {
     "data": {
      "application/json": {
       "ascii": false,
       "bar_format": null,
       "colour": null,
       "elapsed": 0.01200103759765625,
       "initial": 0,
       "n": 0,
       "ncols": null,
       "nrows": null,
       "postfix": null,
       "prefix": "",
       "rate": null,
       "total": 1000000,
       "unit": "it",
       "unit_divisor": 1000,
       "unit_scale": false
      },
      "application/vnd.jupyter.widget-view+json": {
       "model_id": "c97a08592b2542bdad980ea7c4d9c1ac",
       "version_major": 2,
       "version_minor": 0
      },
      "text/plain": [
       "  0%|          | 0/1000000 [00:00<?, ?it/s]"
      ]
     },
     "metadata": {},
     "output_type": "display_data"
    },
    {
     "name": "stdout",
     "output_type": "stream",
     "text": [
      "Doing the sampling\n"
     ]
    },
    {
     "data": {
      "application/json": {
       "ascii": false,
       "bar_format": null,
       "colour": null,
       "elapsed": 0.012811660766601562,
       "initial": 0,
       "n": 0,
       "ncols": null,
       "nrows": null,
       "postfix": null,
       "prefix": "",
       "rate": null,
       "total": 10,
       "unit": "it",
       "unit_divisor": 1000,
       "unit_scale": false
      },
      "application/vnd.jupyter.widget-view+json": {
       "model_id": "20dfba2e1ebf4c459458c70196e97830",
       "version_major": 2,
       "version_minor": 0
      },
      "text/plain": [
       "  0%|          | 0/10 [00:00<?, ?it/s]"
      ]
     },
     "metadata": {},
     "output_type": "display_data"
    },
    {
     "name": "stdout",
     "output_type": "stream",
     "text": [
      "Learn BN\n"
     ]
    },
    {
     "data": {
      "application/json": {
       "ascii": false,
       "bar_format": null,
       "colour": null,
       "elapsed": 0.020000457763671875,
       "initial": 0,
       "n": 0,
       "ncols": null,
       "nrows": null,
       "postfix": null,
       "prefix": "",
       "rate": null,
       "total": 1000000,
       "unit": "it",
       "unit_divisor": 1000,
       "unit_scale": false
      },
      "application/vnd.jupyter.widget-view+json": {
       "model_id": "9806e69f56c74940bd13d32e7063c35d",
       "version_major": 2,
       "version_minor": 0
      },
      "text/plain": [
       "  0%|          | 0/1000000 [00:00<?, ?it/s]"
      ]
     },
     "metadata": {},
     "output_type": "display_data"
    },
    {
     "name": "stdout",
     "output_type": "stream",
     "text": [
      "Doing the sampling\n"
     ]
    },
    {
     "data": {
      "application/json": {
       "ascii": false,
       "bar_format": null,
       "colour": null,
       "elapsed": 0.011017322540283203,
       "initial": 0,
       "n": 0,
       "ncols": null,
       "nrows": null,
       "postfix": null,
       "prefix": "",
       "rate": null,
       "total": 10,
       "unit": "it",
       "unit_divisor": 1000,
       "unit_scale": false
      },
      "application/vnd.jupyter.widget-view+json": {
       "model_id": "08d877bde0544d6eb1bca6dbd07169a3",
       "version_major": 2,
       "version_minor": 0
      },
      "text/plain": [
       "  0%|          | 0/10 [00:00<?, ?it/s]"
      ]
     },
     "metadata": {},
     "output_type": "display_data"
    },
    {
     "name": "stdout",
     "output_type": "stream",
     "text": [
      "Learn BN\n"
     ]
    },
    {
     "data": {
      "application/json": {
       "ascii": false,
       "bar_format": null,
       "colour": null,
       "elapsed": 0.016000032424926758,
       "initial": 0,
       "n": 0,
       "ncols": null,
       "nrows": null,
       "postfix": null,
       "prefix": "",
       "rate": null,
       "total": 1000000,
       "unit": "it",
       "unit_divisor": 1000,
       "unit_scale": false
      },
      "application/vnd.jupyter.widget-view+json": {
       "model_id": "a4ffee1339aa4deb9aa80aee658a4d9e",
       "version_major": 2,
       "version_minor": 0
      },
      "text/plain": [
       "  0%|          | 0/1000000 [00:00<?, ?it/s]"
      ]
     },
     "metadata": {},
     "output_type": "display_data"
    },
    {
     "name": "stdout",
     "output_type": "stream",
     "text": [
      "Doing the sampling\n"
     ]
    },
    {
     "data": {
      "application/json": {
       "ascii": false,
       "bar_format": null,
       "colour": null,
       "elapsed": 0.011986970901489258,
       "initial": 0,
       "n": 0,
       "ncols": null,
       "nrows": null,
       "postfix": null,
       "prefix": "",
       "rate": null,
       "total": 10,
       "unit": "it",
       "unit_divisor": 1000,
       "unit_scale": false
      },
      "application/vnd.jupyter.widget-view+json": {
       "model_id": "8daf193257704f0c979d395992dd33f1",
       "version_major": 2,
       "version_minor": 0
      },
      "text/plain": [
       "  0%|          | 0/10 [00:00<?, ?it/s]"
      ]
     },
     "metadata": {},
     "output_type": "display_data"
    }
   ],
   "source": [
    "# create pools\n",
    "pools_ref = {}\n",
    "for pair_name, pair_seed in seed_pairs.items():\n",
    "    name1, name2 = pair_name.split(\"-\")\n",
    "    ori_states_1 = hh_att_state if name1 == \"HH\" else pp_att_state\n",
    "    ori_states_2 = pp_att_state # because the second one always people\n",
    "    processed_states_ref = pair_states_dict(ori_states_1, ori_states_2, name1, name2)\n",
    "    # we only need matching columns that we wish to process for BN\n",
    "    # this excludes relationship and ids\n",
    "    assert set(processed_states_ref.keys()) <= set(pair_seed.columns)\n",
    "    to_filter_col = list(processed_states_ref.keys())\n",
    "    if name1 == \"HH\":\n",
    "        # special case to add the rela cols\n",
    "        to_filter_col += list(pp_seed[rela_col].unique())\n",
    "    filtered_seed = pair_seed[to_filter_col]\n",
    "    pools_ref[pair_name] = create_pool(filtered_seed, state_names=processed_states_ref, pool_sz=POOL_SIZE)"
   ]
  },
  {
   "cell_type": "code",
   "execution_count": 6,
   "metadata": {},
   "outputs": [],
   "source": [
    "with open(processed_dir / \"dict_pool_pairs.pickle\", \"wb\") as handle:\n",
    "    pickle.dump(pools_ref, handle, protocol=pickle.HIGHEST_PROTOCOL)"
   ]
  },
  {
   "cell_type": "code",
   "execution_count": 7,
   "metadata": {},
   "outputs": [
    {
     "data": {
      "text/plain": [
       "{'HH-Main':                  dwelltype         owndwell      hhinc hhsize totalvehs  \\\n",
       " 0           Separate House      Fully Owned  1250-1499      4         2   \n",
       " 1        Terrace/Townhouse      Fully Owned    400-499      2         1   \n",
       " 2        Flat or Apartment     Being Rented  1750-1999      3         1   \n",
       " 3           Separate House      Fully Owned    300-399      2         2   \n",
       " 4                    Other      Fully Owned    800-999      1         1   \n",
       " ...                    ...              ...        ...    ...       ...   \n",
       " 4999995     Separate House      Fully Owned    800-999      1         1   \n",
       " 4999996     Separate House      Fully Owned  1250-1499      2         2   \n",
       " 4999997     Separate House      Fully Owned    150-299      2         2   \n",
       " 4999998     Separate House      Fully Owned  2000-2499      2         2   \n",
       " 4999999     Separate House  Being Purchased    500-649      2         1   \n",
       " \n",
       "                  persinc    age sex     nolicence anywork  Main  Spouse  \\\n",
       " 0        $1000-1249 p.w.  50-59   M  Some Licence       Y     1       1   \n",
       " 1          $400-599 p.w.  40-49   F  Some Licence       N     1       1   \n",
       " 2        $1500-1999 p.w.  60-69   F  Some Licence       Y     1       1   \n",
       " 3          $300-399 p.w.  80-89   M  Some Licence       N     1       1   \n",
       " 4          $800-999 p.w.  70-79   M  Some Licence       N     1       0   \n",
       " ...                  ...    ...  ..           ...     ...   ...     ...   \n",
       " 4999995    $800-999 p.w.  20-29   M  Some Licence       N     1       0   \n",
       " 4999996  $1500-1999 p.w.  60-69   M  Some Licence       Y     1       1   \n",
       " 4999997      $1-199 p.w.  80-89   M  Some Licence       N     1       0   \n",
       " 4999998  $1000-1249 p.w.  60-69   F  Some Licence       Y     1       0   \n",
       " 4999999    $400-599 p.w.  50-59   F  Some Licence       Y     1       0   \n",
       " \n",
       "          Child  Parent  Sibling  Others  Grandchild  Grandparent  \n",
       " 0            2       0        0       0           0            0  \n",
       " 1            0       0        0       0           0            0  \n",
       " 2            1       0        0       0           0            0  \n",
       " 3            0       0        0       0           0            0  \n",
       " 4            0       0        0       0           0            0  \n",
       " ...        ...     ...      ...     ...         ...          ...  \n",
       " 4999995      0       2        1       0           0            0  \n",
       " 4999996      0       0        0       0           0            0  \n",
       " 4999997      0       0        0       0           0            0  \n",
       " 4999998      0       0        0       0           0            0  \n",
       " 4999999      0       0        0       0           0            0  \n",
       " \n",
       " [5000000 rows x 18 columns],\n",
       " 'Main-Spouse':             persinc_Main   persinc_Spouse age_Main age_Spouse sex_Main  \\\n",
       " 0        $1500-1999 p.w.  $1000-1249 p.w.    70-79      60-69        M   \n",
       " 1            $2000+ p.w.  $1250-1499 p.w.    40-49      40-49        M   \n",
       " 2        $1250-1499 p.w.    $600-799 p.w.    50-59      50-59        M   \n",
       " 3          $600-799 p.w.    $600-799 p.w.    20-29      20-29        F   \n",
       " 4        $1000-1249 p.w.      Zero Income    30-39      30-39        M   \n",
       " ...                  ...              ...      ...        ...      ...   \n",
       " 4999995  $1000-1249 p.w.  $1000-1249 p.w.    40-49      40-49        F   \n",
       " 4999996    $300-399 p.w.    $300-399 p.w.    70-79      70-79        M   \n",
       " 4999997  $1250-1499 p.w.    $800-999 p.w.    40-49      40-49        M   \n",
       " 4999998  $1000-1249 p.w.    $300-399 p.w.    40-49      40-49        F   \n",
       " 4999999  $1250-1499 p.w.  $1250-1499 p.w.    60-69      70-79        F   \n",
       " \n",
       "         sex_Spouse nolicence_Main nolicence_Spouse anywork_Main anywork_Spouse  \n",
       " 0                F   Some Licence     Some Licence            Y              Y  \n",
       " 1                F   Some Licence       No Licence            Y              Y  \n",
       " 2                F   Some Licence     Some Licence            Y              Y  \n",
       " 3                M   Some Licence     Some Licence            N              Y  \n",
       " 4                F   Some Licence     Some Licence            Y              Y  \n",
       " ...            ...            ...              ...          ...            ...  \n",
       " 4999995          M   Some Licence     Some Licence            Y              Y  \n",
       " 4999996          F   Some Licence     Some Licence            N              N  \n",
       " 4999997          F   Some Licence     Some Licence            Y              Y  \n",
       " 4999998          M   Some Licence     Some Licence            Y              N  \n",
       " 4999999          M   Some Licence     Some Licence            Y              N  \n",
       " \n",
       " [5000000 rows x 10 columns],\n",
       " 'Main-Child':             persinc_Main    persinc_Child age_Main age_Child sex_Main  \\\n",
       " 0        $1500-1999 p.w.      Zero Income    40-49       0-9        F   \n",
       " 1            $2000+ p.w.    $800-999 p.w.    50-59     20-29        M   \n",
       " 2        $1500-1999 p.w.      Zero Income    40-49       0-9        M   \n",
       " 3        $1250-1499 p.w.      Zero Income    40-49     10-19        M   \n",
       " 4        $1500-1999 p.w.      Zero Income    40-49     10-19        F   \n",
       " ...                  ...              ...      ...       ...      ...   \n",
       " 4999995  $1500-1999 p.w.  $1500-1999 p.w.    50-59     10-19        M   \n",
       " 4999996  $1500-1999 p.w.      Zero Income    50-59     10-19        M   \n",
       " 4999997  $1500-1999 p.w.    $300-399 p.w.    50-59     20-29        M   \n",
       " 4999998      $2000+ p.w.      Zero Income    40-49       0-9        M   \n",
       " 4999999  $1000-1249 p.w.    $200-299 p.w.    50-59     20-29        F   \n",
       " \n",
       "         sex_Child nolicence_Main nolicence_Child anywork_Main anywork_Child  \n",
       " 0               F   Some Licence      No Licence            Y             N  \n",
       " 1               F   Some Licence    Some Licence            Y             Y  \n",
       " 2               F   Some Licence      No Licence            Y             N  \n",
       " 3               F   Some Licence      No Licence            Y             N  \n",
       " 4               M   Some Licence      No Licence            Y             N  \n",
       " ...           ...            ...             ...          ...           ...  \n",
       " 4999995         M   Some Licence      No Licence            Y             N  \n",
       " 4999996         M   Some Licence      No Licence            Y             N  \n",
       " 4999997         F   Some Licence    Some Licence            Y             Y  \n",
       " 4999998         F   Some Licence      No Licence            Y             N  \n",
       " 4999999         M   Some Licence    Some Licence            Y             Y  \n",
       " \n",
       " [5000000 rows x 10 columns],\n",
       " 'Main-Parent':             persinc_Main   persinc_Parent age_Main age_Parent sex_Main  \\\n",
       " 0        $1500-1999 p.w.    $200-299 p.w.    40-49      70-79        M   \n",
       " 1        $1250-1499 p.w.    $400-599 p.w.    30-39      60-69        F   \n",
       " 2          $800-999 p.w.    $200-299 p.w.    20-29      50-59        M   \n",
       " 3            $2000+ p.w.  $1500-1999 p.w.    20-29      50-59        F   \n",
       " 4        $1250-1499 p.w.    $200-299 p.w.    20-29      60-69        M   \n",
       " ...                  ...              ...      ...        ...      ...   \n",
       " 4999995      $2000+ p.w.      Zero Income    30-39      60-69        M   \n",
       " 4999996      $2000+ p.w.  $1250-1499 p.w.    40-49      70-79        F   \n",
       " 4999997  $1250-1499 p.w.    $600-799 p.w.    20-29      50-59        F   \n",
       " 4999998  $1250-1499 p.w.  $1000-1249 p.w.    20-29      50-59        F   \n",
       " 4999999  $1000-1249 p.w.    $300-399 p.w.    20-29      50-59        F   \n",
       " \n",
       "         sex_Parent nolicence_Main nolicence_Parent anywork_Main anywork_Parent  \n",
       " 0                F   Some Licence     Some Licence            N              N  \n",
       " 1                F   Some Licence     Some Licence            Y              N  \n",
       " 2                M   Some Licence     Some Licence            Y              N  \n",
       " 3                M   Some Licence     Some Licence            Y              Y  \n",
       " 4                F   Some Licence     Some Licence            Y              Y  \n",
       " ...            ...            ...              ...          ...            ...  \n",
       " 4999995          F   Some Licence     Some Licence            Y              N  \n",
       " 4999996          F   Some Licence       No Licence            Y              N  \n",
       " 4999997          M   Some Licence     Some Licence            Y              Y  \n",
       " 4999998          M   Some Licence     Some Licence            Y              Y  \n",
       " 4999999          M   Some Licence     Some Licence            Y              N  \n",
       " \n",
       " [5000000 rows x 10 columns],\n",
       " 'Main-Sibling':             persinc_Main  persinc_Sibling age_Main age_Sibling sex_Main  \\\n",
       " 0          $400-599 p.w.      Zero Income    20-29       10-19        M   \n",
       " 1        $1000-1249 p.w.    $600-799 p.w.    20-29       20-29        F   \n",
       " 2          $800-999 p.w.  $1250-1499 p.w.    30-39       20-29        M   \n",
       " 3            $2000+ p.w.    $600-799 p.w.    60-69       60-69        M   \n",
       " 4        $1000-1249 p.w.      Zero Income    30-39       30-39        F   \n",
       " ...                  ...              ...      ...         ...      ...   \n",
       " 4999995    $800-999 p.w.  $1000-1249 p.w.    30-39       30-39        M   \n",
       " 4999996    $800-999 p.w.      Zero Income    30-39       30-39        M   \n",
       " 4999997    $800-999 p.w.  $1000-1249 p.w.    20-29       20-29        M   \n",
       " 4999998  $1000-1249 p.w.    $400-599 p.w.    20-29       30-39        F   \n",
       " 4999999    $600-799 p.w.      $1-199 p.w.    20-29       20-29        F   \n",
       " \n",
       "         sex_Sibling nolicence_Main nolicence_Sibling anywork_Main  \\\n",
       " 0                 M   Some Licence      Some Licence            Y   \n",
       " 1                 M   Some Licence      Some Licence            Y   \n",
       " 2                 F   Some Licence      Some Licence            Y   \n",
       " 3                 M   Some Licence      Some Licence            N   \n",
       " 4                 F   Some Licence      Some Licence            Y   \n",
       " ...             ...            ...               ...          ...   \n",
       " 4999995           F   Some Licence      Some Licence            Y   \n",
       " 4999996           M   Some Licence      Some Licence            Y   \n",
       " 4999997           M   Some Licence      Some Licence            Y   \n",
       " 4999998           F   Some Licence        No Licence            Y   \n",
       " 4999999           M   Some Licence      Some Licence            Y   \n",
       " \n",
       "         anywork_Sibling  \n",
       " 0                     Y  \n",
       " 1                     Y  \n",
       " 2                     Y  \n",
       " 3                     Y  \n",
       " 4                     Y  \n",
       " ...                 ...  \n",
       " 4999995               Y  \n",
       " 4999996               Y  \n",
       " 4999997               Y  \n",
       " 4999998               N  \n",
       " 4999999               N  \n",
       " \n",
       " [5000000 rows x 10 columns],\n",
       " 'Main-Others':             persinc_Main   persinc_Others age_Main age_Others sex_Main  \\\n",
       " 0        $1500-1999 p.w.      Zero Income    20-29        0-9        M   \n",
       " 1        $1500-1999 p.w.  $1000-1249 p.w.    30-39      20-29        F   \n",
       " 2          $800-999 p.w.    $300-399 p.w.    30-39      30-39        M   \n",
       " 3          $800-999 p.w.    $400-599 p.w.    30-39      30-39        F   \n",
       " 4            $2000+ p.w.    $300-399 p.w.    20-29      20-29        F   \n",
       " ...                  ...              ...      ...        ...      ...   \n",
       " 4999995  $1000-1249 p.w.    $400-599 p.w.    60-69      30-39        F   \n",
       " 4999996      $2000+ p.w.    $800-999 p.w.    20-29      20-29        F   \n",
       " 4999997  $1250-1499 p.w.  $1250-1499 p.w.    50-59      10-19        M   \n",
       " 4999998    $400-599 p.w.    $300-399 p.w.    20-29      20-29        F   \n",
       " 4999999      $2000+ p.w.      Zero Income    40-49      20-29        M   \n",
       " \n",
       "         sex_Others nolicence_Main nolicence_Others anywork_Main anywork_Others  \n",
       " 0                F   Some Licence       No Licence            N              N  \n",
       " 1                F   Some Licence     Some Licence            Y              Y  \n",
       " 2                M   Some Licence     Some Licence            Y              N  \n",
       " 3                F     No Licence     Some Licence            Y              N  \n",
       " 4                F   Some Licence     Some Licence            Y              Y  \n",
       " ...            ...            ...              ...          ...            ...  \n",
       " 4999995          M     No Licence     Some Licence            N              N  \n",
       " 4999996          F   Some Licence       No Licence            Y              Y  \n",
       " 4999997          F   Some Licence     Some Licence            Y              Y  \n",
       " 4999998          F     No Licence     Some Licence            N              Y  \n",
       " 4999999          M   Some Licence       No Licence            Y              Y  \n",
       " \n",
       " [5000000 rows x 10 columns],\n",
       " 'Main-Grandchild':             persinc_Main persinc_Grandchild age_Main age_Grandchild sex_Main  \\\n",
       " 0            $2000+ p.w.        Zero Income    50-59            0-9        M   \n",
       " 1          $300-399 p.w.        Zero Income    60-69          10-19        F   \n",
       " 2          $200-299 p.w.        Zero Income    80-89            0-9        M   \n",
       " 3          $800-999 p.w.        $1-199 p.w.    70-79          20-29        F   \n",
       " 4          $800-999 p.w.        Zero Income    70-79          10-19        M   \n",
       " ...                  ...                ...      ...            ...      ...   \n",
       " 4999995  $1500-1999 p.w.        Zero Income    50-59          10-19        M   \n",
       " 4999996    $800-999 p.w.        Zero Income    60-69            0-9        F   \n",
       " 4999997    $200-299 p.w.        Zero Income    60-69          10-19        F   \n",
       " 4999998    $200-299 p.w.      $200-299 p.w.    50-59          20-29        F   \n",
       " 4999999      Zero Income      $200-299 p.w.    60-69          10-19        F   \n",
       " \n",
       "         sex_Grandchild nolicence_Main nolicence_Grandchild anywork_Main  \\\n",
       " 0                    F   Some Licence           No Licence            Y   \n",
       " 1                    M   Some Licence           No Licence            Y   \n",
       " 2                    M   Some Licence           No Licence            N   \n",
       " 3                    M   Some Licence         Some Licence            N   \n",
       " 4                    M   Some Licence           No Licence            N   \n",
       " ...                ...            ...                  ...          ...   \n",
       " 4999995              M   Some Licence           No Licence            Y   \n",
       " 4999996              M     No Licence           No Licence            N   \n",
       " 4999997              M   Some Licence           No Licence            N   \n",
       " 4999998              M     No Licence         Some Licence            N   \n",
       " 4999999              F   Some Licence         Some Licence            Y   \n",
       " \n",
       "         anywork_Grandchild  \n",
       " 0                        N  \n",
       " 1                        N  \n",
       " 2                        N  \n",
       " 3                        Y  \n",
       " 4                        N  \n",
       " ...                    ...  \n",
       " 4999995                  N  \n",
       " 4999996                  N  \n",
       " 4999997                  N  \n",
       " 4999998                  Y  \n",
       " 4999999                  Y  \n",
       " \n",
       " [5000000 rows x 10 columns],\n",
       " 'Main-Grandparent':             persinc_Main persinc_Grandparent age_Main age_Grandparent  \\\n",
       " 0        $1500-1999 p.w.       $600-799 p.w.    20-29           80-89   \n",
       " 1          $800-999 p.w.       $300-399 p.w.    20-29           80-89   \n",
       " 2        $1250-1499 p.w.       $400-599 p.w.    30-39           70-79   \n",
       " 3          $600-799 p.w.       $200-299 p.w.    10-19           80-89   \n",
       " 4        $1000-1249 p.w.       $400-599 p.w.    20-29            100+   \n",
       " ...                  ...                 ...      ...             ...   \n",
       " 4999995  $1500-1999 p.w.       $300-399 p.w.    20-29           90-99   \n",
       " 4999996  $1250-1499 p.w.       $200-299 p.w.    20-29           80-89   \n",
       " 4999997  $1250-1499 p.w.       $400-599 p.w.    20-29           70-79   \n",
       " 4999998  $1000-1249 p.w.         Zero Income    20-29           10-19   \n",
       " 4999999    $600-799 p.w.         Zero Income    20-29           80-89   \n",
       " \n",
       "         sex_Main sex_Grandparent nolicence_Main nolicence_Grandparent  \\\n",
       " 0              M               M     No Licence          Some Licence   \n",
       " 1              M               M   Some Licence            No Licence   \n",
       " 2              M               F   Some Licence          Some Licence   \n",
       " 3              M               F   Some Licence            No Licence   \n",
       " 4              M               F     No Licence            No Licence   \n",
       " ...          ...             ...            ...                   ...   \n",
       " 4999995        M               M     No Licence            No Licence   \n",
       " 4999996        F               F   Some Licence            No Licence   \n",
       " 4999997        M               M     No Licence            No Licence   \n",
       " 4999998        M               F   Some Licence            No Licence   \n",
       " 4999999        F               F   Some Licence            No Licence   \n",
       " \n",
       "         anywork_Main anywork_Grandparent  \n",
       " 0                  N                   N  \n",
       " 1                  N                   N  \n",
       " 2                  Y                   N  \n",
       " 3                  N                   N  \n",
       " 4                  Y                   N  \n",
       " ...              ...                 ...  \n",
       " 4999995            N                   N  \n",
       " 4999996            Y                   N  \n",
       " 4999997            Y                   N  \n",
       " 4999998            Y                   N  \n",
       " 4999999            Y                   N  \n",
       " \n",
       " [5000000 rows x 10 columns]}"
      ]
     },
     "execution_count": 7,
     "metadata": {},
     "output_type": "execute_result"
    }
   ],
   "source": [
    "pools_ref"
   ]
  },
  {
   "cell_type": "code",
   "execution_count": null,
   "metadata": {},
   "outputs": [],
   "source": []
  }
 ],
 "metadata": {
  "kernelspec": {
   "display_name": "popsyn",
   "language": "python",
   "name": "python3"
  },
  "language_info": {
   "codemirror_mode": {
    "name": "ipython",
    "version": 3
   },
   "file_extension": ".py",
   "mimetype": "text/x-python",
   "name": "python",
   "nbconvert_exporter": "python",
   "pygments_lexer": "ipython3",
   "version": "3.9.18"
  }
 },
 "nbformat": 4,
 "nbformat_minor": 2
}
