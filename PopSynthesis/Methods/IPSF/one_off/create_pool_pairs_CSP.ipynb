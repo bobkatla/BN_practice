{
 "cells": [
  {
   "cell_type": "code",
   "execution_count": 22,
   "metadata": {},
   "outputs": [
    {
     "name": "stdout",
     "output_type": "stream",
     "text": [
      "The autoreload extension is already loaded. To reload it, use:\n",
      "  %reload_ext autoreload\n"
     ]
    }
   ],
   "source": [
    "%load_ext autoreload\n",
    "%autoreload 2"
   ]
  },
  {
   "cell_type": "code",
   "execution_count": 23,
   "metadata": {},
   "outputs": [],
   "source": [
    "import pandas as pd\n",
    "import pickle\n",
    "from PopSynthesis.Methods.IPSF.const import (\n",
    "    processed_dir,\n",
    "    data_dir,\n",
    "    PP_ATTS,\n",
    "    POOL_SIZE,\n",
    "    NOT_INCLUDED_IN_BN_LEARN,\n",
    ")\n",
    "from PopSynthesis.Methods.IPSF.CSP.operations.convert_seeds import convert_seeds_to_pairs, pair_states_dict\n",
    "from PopSynthesis.Methods.IPSF.utils.pool_utils import create_pool\n",
    "from PopSynthesis.DataProcessor.utils.seed.pp.process_relationships import MIN_GRANDPARENT_GRANDCHILD_GAP, MIN_PARENT_CHILD_GAP\n",
    "from PopSynthesis.Methods.IPSF.CSP.operations.extra_filters import filter_mismatch_hhsz, filter_paired_pool_agegr"
   ]
  },
  {
   "cell_type": "code",
   "execution_count": 3,
   "metadata": {},
   "outputs": [],
   "source": [
    "# get the data\n",
    "hh_marg = pd.read_csv(data_dir / \"hh_marginals_ipu.csv\", header=[0, 1])\n",
    "hh_seed = pd.read_csv(data_dir / \"hh_sample_ipu.csv\").drop(columns=[\"sample_geog\"])\n",
    "pp_seed = pd.read_csv(data_dir / \"pp_sample_ipu.csv\").drop(columns=[\"sample_geog\"])\n",
    "with open(processed_dir / \"dict_hh_states.pickle\", \"rb\") as handle:\n",
    "    hh_att_state = pickle.load(handle)\n",
    "with open(processed_dir / \"dict_pp_states.pickle\", \"rb\") as handle:\n",
    "    pp_att_state = pickle.load(handle)"
   ]
  },
  {
   "cell_type": "code",
   "execution_count": 4,
   "metadata": {},
   "outputs": [],
   "source": [
    "hh_marg = hh_marg.drop(columns=hh_marg.columns[hh_marg.columns.get_level_values(0)==\"sample_geog\"][0])\n",
    "# vars\n",
    "rela_col = \"relationship\"\n",
    "id_col = \"serialno\"\n",
    "main_rela = \"Main\"\n",
    "hh_tag = \"HH\""
   ]
  },
  {
   "cell_type": "code",
   "execution_count": 5,
   "metadata": {},
   "outputs": [],
   "source": [
    "# process seed\n",
    "seed_pairs = convert_seeds_to_pairs(hh_seed, pp_seed, id_col, rela_col, main_rela)"
   ]
  },
  {
   "cell_type": "code",
   "execution_count": 6,
   "metadata": {},
   "outputs": [
    {
     "name": "stdout",
     "output_type": "stream",
     "text": [
      "Learn BN\n"
     ]
    },
    {
     "data": {
      "application/json": {
       "ascii": false,
       "bar_format": null,
       "colour": null,
       "elapsed": 0.013674020767211914,
       "initial": 0,
       "n": 0,
       "ncols": null,
       "nrows": null,
       "postfix": null,
       "prefix": "",
       "rate": null,
       "total": 1000000,
       "unit": "it",
       "unit_divisor": 1000,
       "unit_scale": false
      },
      "application/vnd.jupyter.widget-view+json": {
       "model_id": "abd8825e8feb4beeb3e18730c54bda99",
       "version_major": 2,
       "version_minor": 0
      },
      "text/plain": [
       "  0%|          | 0/1000000 [00:00<?, ?it/s]"
      ]
     },
     "metadata": {},
     "output_type": "display_data"
    },
    {
     "name": "stdout",
     "output_type": "stream",
     "text": [
      "Doing the sampling\n"
     ]
    },
    {
     "data": {
      "application/json": {
       "ascii": false,
       "bar_format": null,
       "colour": null,
       "elapsed": 0.024060964584350586,
       "initial": 0,
       "n": 0,
       "ncols": null,
       "nrows": null,
       "postfix": null,
       "prefix": "",
       "rate": null,
       "total": 18,
       "unit": "it",
       "unit_divisor": 1000,
       "unit_scale": false
      },
      "application/vnd.jupyter.widget-view+json": {
       "model_id": "26fe8b77a39e4686bb3cf3a3c760cceb",
       "version_major": 2,
       "version_minor": 0
      },
      "text/plain": [
       "  0%|          | 0/18 [00:00<?, ?it/s]"
      ]
     },
     "metadata": {},
     "output_type": "display_data"
    },
    {
     "name": "stdout",
     "output_type": "stream",
     "text": [
      "Learn BN\n"
     ]
    },
    {
     "data": {
      "application/json": {
       "ascii": false,
       "bar_format": null,
       "colour": null,
       "elapsed": 0.011419534683227539,
       "initial": 0,
       "n": 0,
       "ncols": null,
       "nrows": null,
       "postfix": null,
       "prefix": "",
       "rate": null,
       "total": 1000000,
       "unit": "it",
       "unit_divisor": 1000,
       "unit_scale": false
      },
      "application/vnd.jupyter.widget-view+json": {
       "model_id": "fd398021e657497bb7a55f0f3c6d0a26",
       "version_major": 2,
       "version_minor": 0
      },
      "text/plain": [
       "  0%|          | 0/1000000 [00:00<?, ?it/s]"
      ]
     },
     "metadata": {},
     "output_type": "display_data"
    },
    {
     "name": "stdout",
     "output_type": "stream",
     "text": [
      "Doing the sampling\n"
     ]
    },
    {
     "data": {
      "application/json": {
       "ascii": false,
       "bar_format": null,
       "colour": null,
       "elapsed": 0.011998414993286133,
       "initial": 0,
       "n": 0,
       "ncols": null,
       "nrows": null,
       "postfix": null,
       "prefix": "",
       "rate": null,
       "total": 10,
       "unit": "it",
       "unit_divisor": 1000,
       "unit_scale": false
      },
      "application/vnd.jupyter.widget-view+json": {
       "model_id": "26a7be9e46da4888a1bbd8fa0fcbf48d",
       "version_major": 2,
       "version_minor": 0
      },
      "text/plain": [
       "  0%|          | 0/10 [00:00<?, ?it/s]"
      ]
     },
     "metadata": {},
     "output_type": "display_data"
    },
    {
     "name": "stdout",
     "output_type": "stream",
     "text": [
      "Learn BN\n"
     ]
    },
    {
     "data": {
      "application/json": {
       "ascii": false,
       "bar_format": null,
       "colour": null,
       "elapsed": 0.011011123657226562,
       "initial": 0,
       "n": 0,
       "ncols": null,
       "nrows": null,
       "postfix": null,
       "prefix": "",
       "rate": null,
       "total": 1000000,
       "unit": "it",
       "unit_divisor": 1000,
       "unit_scale": false
      },
      "application/vnd.jupyter.widget-view+json": {
       "model_id": "751251f3099b4e5a80076f57a2a4b315",
       "version_major": 2,
       "version_minor": 0
      },
      "text/plain": [
       "  0%|          | 0/1000000 [00:00<?, ?it/s]"
      ]
     },
     "metadata": {},
     "output_type": "display_data"
    },
    {
     "name": "stdout",
     "output_type": "stream",
     "text": [
      "Doing the sampling\n"
     ]
    },
    {
     "data": {
      "application/json": {
       "ascii": false,
       "bar_format": null,
       "colour": null,
       "elapsed": 0.013162612915039062,
       "initial": 0,
       "n": 0,
       "ncols": null,
       "nrows": null,
       "postfix": null,
       "prefix": "",
       "rate": null,
       "total": 10,
       "unit": "it",
       "unit_divisor": 1000,
       "unit_scale": false
      },
      "application/vnd.jupyter.widget-view+json": {
       "model_id": "213f9979896149d180feb45fdf71bb1f",
       "version_major": 2,
       "version_minor": 0
      },
      "text/plain": [
       "  0%|          | 0/10 [00:00<?, ?it/s]"
      ]
     },
     "metadata": {},
     "output_type": "display_data"
    },
    {
     "name": "stdout",
     "output_type": "stream",
     "text": [
      "Learn BN\n"
     ]
    },
    {
     "data": {
      "application/json": {
       "ascii": false,
       "bar_format": null,
       "colour": null,
       "elapsed": 0.017115116119384766,
       "initial": 0,
       "n": 0,
       "ncols": null,
       "nrows": null,
       "postfix": null,
       "prefix": "",
       "rate": null,
       "total": 1000000,
       "unit": "it",
       "unit_divisor": 1000,
       "unit_scale": false
      },
      "application/vnd.jupyter.widget-view+json": {
       "model_id": "dc0ba7e997b149a3be886f32e1ffec17",
       "version_major": 2,
       "version_minor": 0
      },
      "text/plain": [
       "  0%|          | 0/1000000 [00:00<?, ?it/s]"
      ]
     },
     "metadata": {},
     "output_type": "display_data"
    },
    {
     "name": "stdout",
     "output_type": "stream",
     "text": [
      "Doing the sampling\n"
     ]
    },
    {
     "data": {
      "application/json": {
       "ascii": false,
       "bar_format": null,
       "colour": null,
       "elapsed": 0.012982845306396484,
       "initial": 0,
       "n": 0,
       "ncols": null,
       "nrows": null,
       "postfix": null,
       "prefix": "",
       "rate": null,
       "total": 10,
       "unit": "it",
       "unit_divisor": 1000,
       "unit_scale": false
      },
      "application/vnd.jupyter.widget-view+json": {
       "model_id": "5da5c64a178e480d8ad01b6da9ad0f67",
       "version_major": 2,
       "version_minor": 0
      },
      "text/plain": [
       "  0%|          | 0/10 [00:00<?, ?it/s]"
      ]
     },
     "metadata": {},
     "output_type": "display_data"
    },
    {
     "name": "stdout",
     "output_type": "stream",
     "text": [
      "Learn BN\n"
     ]
    },
    {
     "data": {
      "application/json": {
       "ascii": false,
       "bar_format": null,
       "colour": null,
       "elapsed": 0.021000385284423828,
       "initial": 0,
       "n": 0,
       "ncols": null,
       "nrows": null,
       "postfix": null,
       "prefix": "",
       "rate": null,
       "total": 1000000,
       "unit": "it",
       "unit_divisor": 1000,
       "unit_scale": false
      },
      "application/vnd.jupyter.widget-view+json": {
       "model_id": "72c867aa22ec4240afc1a246f8465aee",
       "version_major": 2,
       "version_minor": 0
      },
      "text/plain": [
       "  0%|          | 0/1000000 [00:00<?, ?it/s]"
      ]
     },
     "metadata": {},
     "output_type": "display_data"
    },
    {
     "name": "stdout",
     "output_type": "stream",
     "text": [
      "Doing the sampling\n"
     ]
    },
    {
     "data": {
      "application/json": {
       "ascii": false,
       "bar_format": null,
       "colour": null,
       "elapsed": 0.02308344841003418,
       "initial": 0,
       "n": 0,
       "ncols": null,
       "nrows": null,
       "postfix": null,
       "prefix": "",
       "rate": null,
       "total": 10,
       "unit": "it",
       "unit_divisor": 1000,
       "unit_scale": false
      },
      "application/vnd.jupyter.widget-view+json": {
       "model_id": "5a40d79e936f427ea1894ae1ad42553c",
       "version_major": 2,
       "version_minor": 0
      },
      "text/plain": [
       "  0%|          | 0/10 [00:00<?, ?it/s]"
      ]
     },
     "metadata": {},
     "output_type": "display_data"
    },
    {
     "name": "stdout",
     "output_type": "stream",
     "text": [
      "Learn BN\n"
     ]
    },
    {
     "data": {
      "application/json": {
       "ascii": false,
       "bar_format": null,
       "colour": null,
       "elapsed": 0.020149707794189453,
       "initial": 0,
       "n": 0,
       "ncols": null,
       "nrows": null,
       "postfix": null,
       "prefix": "",
       "rate": null,
       "total": 1000000,
       "unit": "it",
       "unit_divisor": 1000,
       "unit_scale": false
      },
      "application/vnd.jupyter.widget-view+json": {
       "model_id": "20a054a26ee04919adad33dcb6e1d13b",
       "version_major": 2,
       "version_minor": 0
      },
      "text/plain": [
       "  0%|          | 0/1000000 [00:00<?, ?it/s]"
      ]
     },
     "metadata": {},
     "output_type": "display_data"
    },
    {
     "name": "stdout",
     "output_type": "stream",
     "text": [
      "Doing the sampling\n"
     ]
    },
    {
     "data": {
      "application/json": {
       "ascii": false,
       "bar_format": null,
       "colour": null,
       "elapsed": 0.018998146057128906,
       "initial": 0,
       "n": 0,
       "ncols": null,
       "nrows": null,
       "postfix": null,
       "prefix": "",
       "rate": null,
       "total": 10,
       "unit": "it",
       "unit_divisor": 1000,
       "unit_scale": false
      },
      "application/vnd.jupyter.widget-view+json": {
       "model_id": "9e8f69f6cbf942e0bcd17b59616b9098",
       "version_major": 2,
       "version_minor": 0
      },
      "text/plain": [
       "  0%|          | 0/10 [00:00<?, ?it/s]"
      ]
     },
     "metadata": {},
     "output_type": "display_data"
    },
    {
     "name": "stdout",
     "output_type": "stream",
     "text": [
      "Learn BN\n"
     ]
    },
    {
     "data": {
      "application/json": {
       "ascii": false,
       "bar_format": null,
       "colour": null,
       "elapsed": 0.0163571834564209,
       "initial": 0,
       "n": 0,
       "ncols": null,
       "nrows": null,
       "postfix": null,
       "prefix": "",
       "rate": null,
       "total": 1000000,
       "unit": "it",
       "unit_divisor": 1000,
       "unit_scale": false
      },
      "application/vnd.jupyter.widget-view+json": {
       "model_id": "7242da9d15db40aeaba93b5efe4abbf3",
       "version_major": 2,
       "version_minor": 0
      },
      "text/plain": [
       "  0%|          | 0/1000000 [00:00<?, ?it/s]"
      ]
     },
     "metadata": {},
     "output_type": "display_data"
    },
    {
     "name": "stdout",
     "output_type": "stream",
     "text": [
      "Doing the sampling\n"
     ]
    },
    {
     "data": {
      "application/json": {
       "ascii": false,
       "bar_format": null,
       "colour": null,
       "elapsed": 0.01393890380859375,
       "initial": 0,
       "n": 0,
       "ncols": null,
       "nrows": null,
       "postfix": null,
       "prefix": "",
       "rate": null,
       "total": 10,
       "unit": "it",
       "unit_divisor": 1000,
       "unit_scale": false
      },
      "application/vnd.jupyter.widget-view+json": {
       "model_id": "dd317dabba764cbfb8ee3cb5c215d63c",
       "version_major": 2,
       "version_minor": 0
      },
      "text/plain": [
       "  0%|          | 0/10 [00:00<?, ?it/s]"
      ]
     },
     "metadata": {},
     "output_type": "display_data"
    },
    {
     "name": "stdout",
     "output_type": "stream",
     "text": [
      "Learn BN\n"
     ]
    },
    {
     "data": {
      "application/json": {
       "ascii": false,
       "bar_format": null,
       "colour": null,
       "elapsed": 0.01829075813293457,
       "initial": 0,
       "n": 0,
       "ncols": null,
       "nrows": null,
       "postfix": null,
       "prefix": "",
       "rate": null,
       "total": 1000000,
       "unit": "it",
       "unit_divisor": 1000,
       "unit_scale": false
      },
      "application/vnd.jupyter.widget-view+json": {
       "model_id": "6aabf389ec8a4a29bf6ab8f19ef94b1f",
       "version_major": 2,
       "version_minor": 0
      },
      "text/plain": [
       "  0%|          | 0/1000000 [00:00<?, ?it/s]"
      ]
     },
     "metadata": {},
     "output_type": "display_data"
    },
    {
     "name": "stdout",
     "output_type": "stream",
     "text": [
      "Doing the sampling\n"
     ]
    },
    {
     "data": {
      "application/json": {
       "ascii": false,
       "bar_format": null,
       "colour": null,
       "elapsed": 0.015999794006347656,
       "initial": 0,
       "n": 0,
       "ncols": null,
       "nrows": null,
       "postfix": null,
       "prefix": "",
       "rate": null,
       "total": 10,
       "unit": "it",
       "unit_divisor": 1000,
       "unit_scale": false
      },
      "application/vnd.jupyter.widget-view+json": {
       "model_id": "5298bdce55794aedb6cb6a4cea233a55",
       "version_major": 2,
       "version_minor": 0
      },
      "text/plain": [
       "  0%|          | 0/10 [00:00<?, ?it/s]"
      ]
     },
     "metadata": {},
     "output_type": "display_data"
    }
   ],
   "source": [
    "# create pools\n",
    "pools_ref = {}\n",
    "for pair_name, pair_seed in seed_pairs.items():\n",
    "    name1, name2 = pair_name.split(\"-\")\n",
    "    ori_states_1 = hh_att_state if name1 == hh_tag else pp_att_state\n",
    "    ori_states_2 = pp_att_state # because the second one always people\n",
    "    processed_states_ref = pair_states_dict(ori_states_1, ori_states_2, name1, name2)\n",
    "    # we only need matching columns that we wish to process for BN\n",
    "    # this excludes relationship and ids\n",
    "    assert set(processed_states_ref.keys()) <= set(pair_seed.columns)\n",
    "    to_filter_col = list(processed_states_ref.keys())\n",
    "    if name1 == \"HH\":\n",
    "        # special case to add the rela cols\n",
    "        to_filter_col += list(pp_seed[rela_col].unique())\n",
    "    filtered_seed = pair_seed[to_filter_col]\n",
    "    pools_ref[pair_name] = create_pool(filtered_seed, state_names=processed_states_ref, pool_sz=POOL_SIZE)"
   ]
  },
  {
   "cell_type": "code",
   "execution_count": 7,
   "metadata": {},
   "outputs": [],
   "source": [
    "pp_atts = list(set(PP_ATTS) - set(NOT_INCLUDED_IN_BN_LEARN))\n",
    "all_rela = [x.split(\"-\")[-1] for x in pools_ref.keys()]"
   ]
  },
  {
   "cell_type": "code",
   "execution_count": 8,
   "metadata": {},
   "outputs": [],
   "source": [
    "# Rename HH-Main and filter mismatch by hhszie\n",
    "rename_main = {x: f\"{x}_{main_rela}\" for x in pp_atts}\n",
    "pools_ref[f\"{hh_tag}-{main_rela}\"] = pools_ref[f\"{hh_tag}-{main_rela}\"].rename(columns=rename_main)\n",
    "pools_ref[f\"{hh_tag}-{main_rela}\"] = filter_mismatch_hhsz(\n",
    "    pools_ref[f\"{hh_tag}-{main_rela}\"], \"hhsize\", all_rela\n",
    ")"
   ]
  },
  {
   "cell_type": "code",
   "execution_count": 24,
   "metadata": {},
   "outputs": [],
   "source": [
    "# Filter to remove cases of wrong age-group for these 4 special\n",
    "for rela in [\"Grandchild\", \"Child\", \"Parent\", \"Grandparent\"]:\n",
    "    min_gap = MIN_GRANDPARENT_GRANDCHILD_GAP if rela in [\"Grandchild\", \"Grandparent\"] else MIN_PARENT_CHILD_GAP\n",
    "    main_age_col = f\"age_{main_rela}\"\n",
    "    rela_age_col = f\"age_{rela}\"\n",
    "    older_age_col = main_age_col if rela in [\"Grandchild\", \"Child\"] else rela_age_col\n",
    "    younger_age_col = main_age_col if rela in [\"Parent\", \"Grandparent\"] else rela_age_col\n",
    "    assert younger_age_col != older_age_col\n",
    "    pools_ref[f\"{main_rela}-{rela}\"] = filter_paired_pool_agegr(pool=pools_ref[f\"{main_rela}-{rela}\"], agegr_col_younger=younger_age_col, agegr_col_older=older_age_col, min_gap=min_gap)"
   ]
  },
  {
   "cell_type": "code",
   "execution_count": 35,
   "metadata": {},
   "outputs": [],
   "source": [
    "with open(processed_dir / \"dict_pool_pairs.pickle\", \"wb\") as handle:\n",
    "    pickle.dump(pools_ref, handle, protocol=pickle.HIGHEST_PROTOCOL)"
   ]
  },
  {
   "cell_type": "code",
   "execution_count": 33,
   "metadata": {},
   "outputs": [
    {
     "data": {
      "text/html": [
       "<div>\n",
       "<style scoped>\n",
       "    .dataframe tbody tr th:only-of-type {\n",
       "        vertical-align: middle;\n",
       "    }\n",
       "\n",
       "    .dataframe tbody tr th {\n",
       "        vertical-align: top;\n",
       "    }\n",
       "\n",
       "    .dataframe thead th {\n",
       "        text-align: right;\n",
       "    }\n",
       "</style>\n",
       "<table border=\"1\" class=\"dataframe\">\n",
       "  <thead>\n",
       "    <tr style=\"text-align: right;\">\n",
       "      <th></th>\n",
       "      <th>sex_Main</th>\n",
       "      <th>sex_Parent</th>\n",
       "      <th>anywork_Main</th>\n",
       "      <th>anywork_Parent</th>\n",
       "      <th>persinc_Main</th>\n",
       "      <th>persinc_Parent</th>\n",
       "      <th>nolicence_Main</th>\n",
       "      <th>nolicence_Parent</th>\n",
       "      <th>age_Main</th>\n",
       "      <th>age_Parent</th>\n",
       "    </tr>\n",
       "  </thead>\n",
       "  <tbody>\n",
       "    <tr>\n",
       "      <th>0</th>\n",
       "      <td>M</td>\n",
       "      <td>M</td>\n",
       "      <td>Y</td>\n",
       "      <td>N</td>\n",
       "      <td>$1500-1999 p.w.</td>\n",
       "      <td>$400-599 p.w.</td>\n",
       "      <td>Some Licence</td>\n",
       "      <td>Some Licence</td>\n",
       "      <td>20-29</td>\n",
       "      <td>80-89</td>\n",
       "    </tr>\n",
       "    <tr>\n",
       "      <th>1</th>\n",
       "      <td>M</td>\n",
       "      <td>F</td>\n",
       "      <td>Y</td>\n",
       "      <td>N</td>\n",
       "      <td>$800-999 p.w.</td>\n",
       "      <td>$400-599 p.w.</td>\n",
       "      <td>Some Licence</td>\n",
       "      <td>Some Licence</td>\n",
       "      <td>20-29</td>\n",
       "      <td>60-69</td>\n",
       "    </tr>\n",
       "    <tr>\n",
       "      <th>2</th>\n",
       "      <td>M</td>\n",
       "      <td>M</td>\n",
       "      <td>Y</td>\n",
       "      <td>Y</td>\n",
       "      <td>$1000-1249 p.w.</td>\n",
       "      <td>$300-399 p.w.</td>\n",
       "      <td>Some Licence</td>\n",
       "      <td>Some Licence</td>\n",
       "      <td>20-29</td>\n",
       "      <td>50-59</td>\n",
       "    </tr>\n",
       "    <tr>\n",
       "      <th>3</th>\n",
       "      <td>F</td>\n",
       "      <td>F</td>\n",
       "      <td>Y</td>\n",
       "      <td>N</td>\n",
       "      <td>$1250-1499 p.w.</td>\n",
       "      <td>$600-799 p.w.</td>\n",
       "      <td>No Licence</td>\n",
       "      <td>Some Licence</td>\n",
       "      <td>50-59</td>\n",
       "      <td>80-89</td>\n",
       "    </tr>\n",
       "    <tr>\n",
       "      <th>4</th>\n",
       "      <td>M</td>\n",
       "      <td>F</td>\n",
       "      <td>Y</td>\n",
       "      <td>N</td>\n",
       "      <td>$1500-1999 p.w.</td>\n",
       "      <td>$300-399 p.w.</td>\n",
       "      <td>Some Licence</td>\n",
       "      <td>No Licence</td>\n",
       "      <td>20-29</td>\n",
       "      <td>70-79</td>\n",
       "    </tr>\n",
       "    <tr>\n",
       "      <th>...</th>\n",
       "      <td>...</td>\n",
       "      <td>...</td>\n",
       "      <td>...</td>\n",
       "      <td>...</td>\n",
       "      <td>...</td>\n",
       "      <td>...</td>\n",
       "      <td>...</td>\n",
       "      <td>...</td>\n",
       "      <td>...</td>\n",
       "      <td>...</td>\n",
       "    </tr>\n",
       "    <tr>\n",
       "      <th>4999995</th>\n",
       "      <td>F</td>\n",
       "      <td>M</td>\n",
       "      <td>Y</td>\n",
       "      <td>N</td>\n",
       "      <td>$1000-1249 p.w.</td>\n",
       "      <td>Zero Income</td>\n",
       "      <td>Some Licence</td>\n",
       "      <td>Some Licence</td>\n",
       "      <td>20-29</td>\n",
       "      <td>60-69</td>\n",
       "    </tr>\n",
       "    <tr>\n",
       "      <th>4999996</th>\n",
       "      <td>M</td>\n",
       "      <td>F</td>\n",
       "      <td>Y</td>\n",
       "      <td>N</td>\n",
       "      <td>$600-799 p.w.</td>\n",
       "      <td>$300-399 p.w.</td>\n",
       "      <td>Some Licence</td>\n",
       "      <td>Some Licence</td>\n",
       "      <td>40-49</td>\n",
       "      <td>60-69</td>\n",
       "    </tr>\n",
       "    <tr>\n",
       "      <th>4999997</th>\n",
       "      <td>M</td>\n",
       "      <td>F</td>\n",
       "      <td>Y</td>\n",
       "      <td>N</td>\n",
       "      <td>$600-799 p.w.</td>\n",
       "      <td>$200-299 p.w.</td>\n",
       "      <td>Some Licence</td>\n",
       "      <td>Some Licence</td>\n",
       "      <td>30-39</td>\n",
       "      <td>60-69</td>\n",
       "    </tr>\n",
       "    <tr>\n",
       "      <th>4999998</th>\n",
       "      <td>M</td>\n",
       "      <td>F</td>\n",
       "      <td>Y</td>\n",
       "      <td>Y</td>\n",
       "      <td>$800-999 p.w.</td>\n",
       "      <td>$400-599 p.w.</td>\n",
       "      <td>Some Licence</td>\n",
       "      <td>Some Licence</td>\n",
       "      <td>20-29</td>\n",
       "      <td>50-59</td>\n",
       "    </tr>\n",
       "    <tr>\n",
       "      <th>4999999</th>\n",
       "      <td>F</td>\n",
       "      <td>M</td>\n",
       "      <td>Y</td>\n",
       "      <td>N</td>\n",
       "      <td>$1000-1249 p.w.</td>\n",
       "      <td>$600-799 p.w.</td>\n",
       "      <td>Some Licence</td>\n",
       "      <td>No Licence</td>\n",
       "      <td>50-59</td>\n",
       "      <td>90-99</td>\n",
       "    </tr>\n",
       "  </tbody>\n",
       "</table>\n",
       "<p>4972777 rows × 10 columns</p>\n",
       "</div>"
      ],
      "text/plain": [
       "        sex_Main sex_Parent anywork_Main anywork_Parent     persinc_Main  \\\n",
       "0              M          M            Y              N  $1500-1999 p.w.   \n",
       "1              M          F            Y              N    $800-999 p.w.   \n",
       "2              M          M            Y              Y  $1000-1249 p.w.   \n",
       "3              F          F            Y              N  $1250-1499 p.w.   \n",
       "4              M          F            Y              N  $1500-1999 p.w.   \n",
       "...          ...        ...          ...            ...              ...   \n",
       "4999995        F          M            Y              N  $1000-1249 p.w.   \n",
       "4999996        M          F            Y              N    $600-799 p.w.   \n",
       "4999997        M          F            Y              N    $600-799 p.w.   \n",
       "4999998        M          F            Y              Y    $800-999 p.w.   \n",
       "4999999        F          M            Y              N  $1000-1249 p.w.   \n",
       "\n",
       "        persinc_Parent nolicence_Main nolicence_Parent age_Main age_Parent  \n",
       "0        $400-599 p.w.   Some Licence     Some Licence    20-29      80-89  \n",
       "1        $400-599 p.w.   Some Licence     Some Licence    20-29      60-69  \n",
       "2        $300-399 p.w.   Some Licence     Some Licence    20-29      50-59  \n",
       "3        $600-799 p.w.     No Licence     Some Licence    50-59      80-89  \n",
       "4        $300-399 p.w.   Some Licence       No Licence    20-29      70-79  \n",
       "...                ...            ...              ...      ...        ...  \n",
       "4999995    Zero Income   Some Licence     Some Licence    20-29      60-69  \n",
       "4999996  $300-399 p.w.   Some Licence     Some Licence    40-49      60-69  \n",
       "4999997  $200-299 p.w.   Some Licence     Some Licence    30-39      60-69  \n",
       "4999998  $400-599 p.w.   Some Licence     Some Licence    20-29      50-59  \n",
       "4999999  $600-799 p.w.   Some Licence       No Licence    50-59      90-99  \n",
       "\n",
       "[4972777 rows x 10 columns]"
      ]
     },
     "execution_count": 33,
     "metadata": {},
     "output_type": "execute_result"
    }
   ],
   "source": [
    "pools_ref[\"Main-Parent\"]"
   ]
  },
  {
   "cell_type": "code",
   "execution_count": null,
   "metadata": {},
   "outputs": [],
   "source": []
  }
 ],
 "metadata": {
  "kernelspec": {
   "display_name": "popsyn",
   "language": "python",
   "name": "python3"
  },
  "language_info": {
   "codemirror_mode": {
    "name": "ipython",
    "version": 3
   },
   "file_extension": ".py",
   "mimetype": "text/x-python",
   "name": "python",
   "nbconvert_exporter": "python",
   "pygments_lexer": "ipython3",
   "version": "3.9.18"
  }
 },
 "nbformat": 4,
 "nbformat_minor": 2
}
