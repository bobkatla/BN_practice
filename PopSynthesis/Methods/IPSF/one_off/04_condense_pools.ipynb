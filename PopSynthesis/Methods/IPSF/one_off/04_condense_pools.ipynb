{
 "cells": [
  {
   "cell_type": "code",
   "execution_count": 35,
   "metadata": {},
   "outputs": [],
   "source": [
    "import polars as pl\n",
    "from PopSynthesis.Methods.IPSF.const import processed_dir, HH_ATTS, count_field"
   ]
  },
  {
   "cell_type": "code",
   "execution_count": 26,
   "metadata": {},
   "outputs": [],
   "source": [
    "import pandas as pd"
   ]
  },
  {
   "cell_type": "code",
   "execution_count": 30,
   "metadata": {},
   "outputs": [],
   "source": [
    "hh_pool = pl.read_csv(processed_dir / \"HH_Pool.csv\", infer_schema_length=0)"
   ]
  },
  {
   "cell_type": "code",
   "execution_count": 41,
   "metadata": {},
   "outputs": [
    {
     "data": {
      "text/html": [
       "<div><style>\n",
       ".dataframe > thead > tr,\n",
       ".dataframe > tbody > tr {\n",
       "  text-align: right;\n",
       "  white-space: pre-wrap;\n",
       "}\n",
       "</style>\n",
       "<small>shape: (10_707, 6)</small><table border=\"1\" class=\"dataframe\"><thead><tr><th>dwelltype</th><th>owndwell</th><th>hhinc</th><th>totalvehs</th><th>hhsize</th><th>count</th></tr><tr><td>str</td><td>str</td><td>str</td><td>str</td><td>str</td><td>u32</td></tr></thead><tbody><tr><td>&quot;Separate House&quot;</td><td>&quot;Something Else&quot;</td><td>&quot;1000-1249&quot;</td><td>&quot;3&quot;</td><td>&quot;6&quot;</td><td>8</td></tr><tr><td>&quot;Separate House&quot;</td><td>&quot;Fully Owned&quot;</td><td>&quot;1250-1499&quot;</td><td>&quot;3&quot;</td><td>&quot;4&quot;</td><td>2997</td></tr><tr><td>&quot;Separate House&quot;</td><td>&quot;Something Else&quot;</td><td>&quot;1500-1749&quot;</td><td>&quot;2&quot;</td><td>&quot;1&quot;</td><td>15</td></tr><tr><td>&quot;Separate House&quot;</td><td>&quot;Fully Owned&quot;</td><td>&quot;150-299&quot;</td><td>&quot;1&quot;</td><td>&quot;3&quot;</td><td>1016</td></tr><tr><td>&quot;Separate House&quot;</td><td>&quot;Being Rented&quot;</td><td>&quot;1750-1999&quot;</td><td>&quot;2&quot;</td><td>&quot;2&quot;</td><td>7822</td></tr><tr><td>&hellip;</td><td>&hellip;</td><td>&hellip;</td><td>&hellip;</td><td>&hellip;</td><td>&hellip;</td></tr><tr><td>&quot;Terrace/Townhouse&quot;</td><td>&quot;Fully Owned&quot;</td><td>&quot;5000-5999&quot;</td><td>&quot;2&quot;</td><td>&quot;2&quot;</td><td>790</td></tr><tr><td>&quot;Flat or Apartment&quot;</td><td>&quot;Fully Owned&quot;</td><td>&quot;3500-3999&quot;</td><td>&quot;1&quot;</td><td>&quot;7&quot;</td><td>1</td></tr><tr><td>&quot;Flat or Apartment&quot;</td><td>&quot;Fully Owned&quot;</td><td>&quot;800-999&quot;</td><td>&quot;1&quot;</td><td>&quot;6&quot;</td><td>3</td></tr><tr><td>&quot;Terrace/Townhouse&quot;</td><td>&quot;Being Rented&quot;</td><td>&quot;650-799&quot;</td><td>&quot;2&quot;</td><td>&quot;1&quot;</td><td>149</td></tr><tr><td>&quot;Separate House&quot;</td><td>&quot;Being Purchased&quot;</td><td>&quot;2000-2499&quot;</td><td>&quot;2&quot;</td><td>&quot;7&quot;</td><td>268</td></tr></tbody></table></div>"
      ],
      "text/plain": [
       "shape: (10_707, 6)\n",
       "┌───────────────────┬─────────────────┬───────────┬───────────┬────────┬───────┐\n",
       "│ dwelltype         ┆ owndwell        ┆ hhinc     ┆ totalvehs ┆ hhsize ┆ count │\n",
       "│ ---               ┆ ---             ┆ ---       ┆ ---       ┆ ---    ┆ ---   │\n",
       "│ str               ┆ str             ┆ str       ┆ str       ┆ str    ┆ u32   │\n",
       "╞═══════════════════╪═════════════════╪═══════════╪═══════════╪════════╪═══════╡\n",
       "│ Separate House    ┆ Something Else  ┆ 1000-1249 ┆ 3         ┆ 6      ┆ 8     │\n",
       "│ Separate House    ┆ Fully Owned     ┆ 1250-1499 ┆ 3         ┆ 4      ┆ 2997  │\n",
       "│ Separate House    ┆ Something Else  ┆ 1500-1749 ┆ 2         ┆ 1      ┆ 15    │\n",
       "│ Separate House    ┆ Fully Owned     ┆ 150-299   ┆ 1         ┆ 3      ┆ 1016  │\n",
       "│ Separate House    ┆ Being Rented    ┆ 1750-1999 ┆ 2         ┆ 2      ┆ 7822  │\n",
       "│ …                 ┆ …               ┆ …         ┆ …         ┆ …      ┆ …     │\n",
       "│ Terrace/Townhouse ┆ Fully Owned     ┆ 5000-5999 ┆ 2         ┆ 2      ┆ 790   │\n",
       "│ Flat or Apartment ┆ Fully Owned     ┆ 3500-3999 ┆ 1         ┆ 7      ┆ 1     │\n",
       "│ Flat or Apartment ┆ Fully Owned     ┆ 800-999   ┆ 1         ┆ 6      ┆ 3     │\n",
       "│ Terrace/Townhouse ┆ Being Rented    ┆ 650-799   ┆ 2         ┆ 1      ┆ 149   │\n",
       "│ Separate House    ┆ Being Purchased ┆ 2000-2499 ┆ 2         ┆ 7      ┆ 268   │\n",
       "└───────────────────┴─────────────────┴───────────┴───────────┴────────┴───────┘"
      ]
     },
     "execution_count": 41,
     "metadata": {},
     "output_type": "execute_result"
    }
   ],
   "source": [
    "condensed_hh_pool = hh_pool.group_by(HH_ATTS).len(name=count_field)\n",
    "condensed_hh_pool"
   ]
  },
  {
   "cell_type": "code",
   "execution_count": 42,
   "metadata": {},
   "outputs": [],
   "source": [
    "condensed_hh_pool.write_csv(processed_dir / \"HH_Pool_Condensed.csv\")"
   ]
  },
  {
   "cell_type": "code",
   "execution_count": 38,
   "metadata": {},
   "outputs": [],
   "source": [
    "pp_pool = pl.read_csv(processed_dir / \"PP_Pool.csv\", infer_schema_length=0)"
   ]
  },
  {
   "cell_type": "code",
   "execution_count": 43,
   "metadata": {},
   "outputs": [
    {
     "data": {
      "text/html": [
       "<div><style>\n",
       ".dataframe > thead > tr,\n",
       ".dataframe > tbody > tr {\n",
       "  text-align: right;\n",
       "  white-space: pre-wrap;\n",
       "}\n",
       "</style>\n",
       "<small>shape: (886, 6)</small><table border=\"1\" class=\"dataframe\"><thead><tr><th>age</th><th>sex</th><th>persinc</th><th>nolicence</th><th>anywork</th><th>count</th></tr><tr><td>str</td><td>str</td><td>str</td><td>str</td><td>str</td><td>u32</td></tr></thead><tbody><tr><td>&quot;30-39&quot;</td><td>&quot;M&quot;</td><td>&quot;$300-399 p.w.&quot;</td><td>&quot;No Licence&quot;</td><td>&quot;N&quot;</td><td>308</td></tr><tr><td>&quot;50-59&quot;</td><td>&quot;F&quot;</td><td>&quot;$1000-1249 p.w.&quot;</td><td>&quot;No Licence&quot;</td><td>&quot;N&quot;</td><td>548</td></tr><tr><td>&quot;50-59&quot;</td><td>&quot;F&quot;</td><td>&quot;Zero Income&quot;</td><td>&quot;Some Licence&quot;</td><td>&quot;N&quot;</td><td>18243</td></tr><tr><td>&quot;80-89&quot;</td><td>&quot;M&quot;</td><td>&quot;$1-199 p.w.&quot;</td><td>&quot;No Licence&quot;</td><td>&quot;N&quot;</td><td>537</td></tr><tr><td>&quot;70-79&quot;</td><td>&quot;M&quot;</td><td>&quot;$400-599 p.w.&quot;</td><td>&quot;Some Licence&quot;</td><td>&quot;Y&quot;</td><td>3230</td></tr><tr><td>&hellip;</td><td>&hellip;</td><td>&hellip;</td><td>&hellip;</td><td>&hellip;</td><td>&hellip;</td></tr><tr><td>&quot;50-59&quot;</td><td>&quot;M&quot;</td><td>&quot;$2000+ p.w.&quot;</td><td>&quot;No Licence&quot;</td><td>&quot;Y&quot;</td><td>1057</td></tr><tr><td>&quot;0-9&quot;</td><td>&quot;M&quot;</td><td>&quot;Zero Income&quot;</td><td>&quot;No Licence&quot;</td><td>&quot;N&quot;</td><td>289024</td></tr><tr><td>&quot;30-39&quot;</td><td>&quot;F&quot;</td><td>&quot;$1-199 p.w.&quot;</td><td>&quot;Some Licence&quot;</td><td>&quot;Y&quot;</td><td>9176</td></tr><tr><td>&quot;90-99&quot;</td><td>&quot;M&quot;</td><td>&quot;$300-399 p.w.&quot;</td><td>&quot;Some Licence&quot;</td><td>&quot;N&quot;</td><td>1311</td></tr><tr><td>&quot;20-29&quot;</td><td>&quot;F&quot;</td><td>&quot;$400-599 p.w.&quot;</td><td>&quot;Some Licence&quot;</td><td>&quot;N&quot;</td><td>6256</td></tr></tbody></table></div>"
      ],
      "text/plain": [
       "shape: (886, 6)\n",
       "┌───────┬─────┬─────────────────┬──────────────┬─────────┬────────┐\n",
       "│ age   ┆ sex ┆ persinc         ┆ nolicence    ┆ anywork ┆ count  │\n",
       "│ ---   ┆ --- ┆ ---             ┆ ---          ┆ ---     ┆ ---    │\n",
       "│ str   ┆ str ┆ str             ┆ str          ┆ str     ┆ u32    │\n",
       "╞═══════╪═════╪═════════════════╪══════════════╪═════════╪════════╡\n",
       "│ 30-39 ┆ M   ┆ $300-399 p.w.   ┆ No Licence   ┆ N       ┆ 308    │\n",
       "│ 50-59 ┆ F   ┆ $1000-1249 p.w. ┆ No Licence   ┆ N       ┆ 548    │\n",
       "│ 50-59 ┆ F   ┆ Zero Income     ┆ Some Licence ┆ N       ┆ 18243  │\n",
       "│ 80-89 ┆ M   ┆ $1-199 p.w.     ┆ No Licence   ┆ N       ┆ 537    │\n",
       "│ 70-79 ┆ M   ┆ $400-599 p.w.   ┆ Some Licence ┆ Y       ┆ 3230   │\n",
       "│ …     ┆ …   ┆ …               ┆ …            ┆ …       ┆ …      │\n",
       "│ 50-59 ┆ M   ┆ $2000+ p.w.     ┆ No Licence   ┆ Y       ┆ 1057   │\n",
       "│ 0-9   ┆ M   ┆ Zero Income     ┆ No Licence   ┆ N       ┆ 289024 │\n",
       "│ 30-39 ┆ F   ┆ $1-199 p.w.     ┆ Some Licence ┆ Y       ┆ 9176   │\n",
       "│ 90-99 ┆ M   ┆ $300-399 p.w.   ┆ Some Licence ┆ N       ┆ 1311   │\n",
       "│ 20-29 ┆ F   ┆ $400-599 p.w.   ┆ Some Licence ┆ N       ┆ 6256   │\n",
       "└───────┴─────┴─────────────────┴──────────────┴─────────┴────────┘"
      ]
     },
     "execution_count": 43,
     "metadata": {},
     "output_type": "execute_result"
    }
   ],
   "source": [
    "condensed_pp_pool = pp_pool.group_by(pl.all()).len(name=count_field)\n",
    "condensed_pp_pool"
   ]
  },
  {
   "cell_type": "code",
   "execution_count": 44,
   "metadata": {},
   "outputs": [],
   "source": [
    "condensed_pp_pool.write_csv(processed_dir / \"PP_Pool_Condensed.csv\")"
   ]
  },
  {
   "cell_type": "code",
   "execution_count": null,
   "metadata": {},
   "outputs": [],
   "source": []
  }
 ],
 "metadata": {
  "kernelspec": {
   "display_name": "popsyn",
   "language": "python",
   "name": "python3"
  },
  "language_info": {
   "codemirror_mode": {
    "name": "ipython",
    "version": 3
   },
   "file_extension": ".py",
   "mimetype": "text/x-python",
   "name": "python",
   "nbconvert_exporter": "python",
   "pygments_lexer": "ipython3",
   "version": "3.9.18"
  }
 },
 "nbformat": 4,
 "nbformat_minor": 2
}
