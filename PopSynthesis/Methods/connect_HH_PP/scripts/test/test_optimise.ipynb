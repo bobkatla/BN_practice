{
 "cells": [
  {
   "cell_type": "code",
   "execution_count": 1,
   "metadata": {},
   "outputs": [],
   "source": [
    "import pandas as pd\n",
    "import numpy as np\n",
    "import os\n",
    "from PopSynthesis.Methods.connect_HH_PP.scripts.sample_hh_main import *\n",
    "from PopSynthesis.Methods.connect_HH_PP.scripts.process_all_hh_pp import *    "
   ]
  },
  {
   "cell_type": "code",
   "execution_count": 2,
   "metadata": {},
   "outputs": [],
   "source": [
    "def wrapper_get_pool(have_the_file=False):\n",
    "    if have_the_file:\n",
    "        pool = pd.read_csv(\"./pool_all_samples.csv\")\n",
    "    else:\n",
    "        df_seed = pd.read_csv(os.path.join(processed_data, \"ori_sample_hh.csv\"))\n",
    "        # drop all the ids as they are not needed for in BN learning\n",
    "        id_cols = [x for x in df_seed.columns if \"hhid\" in x or \"persid\" in x]\n",
    "        df_seed = df_seed.drop(columns=id_cols)\n",
    "\n",
    "        with open(os.path.join(processed_data, 'dict_hh_states.pickle'), 'rb') as handle:\n",
    "            hh_state_names = pickle.load(handle)\n",
    "        \n",
    "        pool = get_pool(df_seed, hh_state_names)\n",
    "        pool.to_csv(\"./pool_all_samples.csv\", index=False)\n",
    "    return pool\n",
    "\n",
    "pool_ori = wrapper_get_pool(have_the_file=True)"
   ]
  },
  {
   "cell_type": "code",
   "execution_count": 4,
   "metadata": {},
   "outputs": [
    {
     "data": {
      "text/plain": [
       "8597817"
      ]
     },
     "execution_count": 4,
     "metadata": {},
     "output_type": "execute_result"
    }
   ],
   "source": [
    "len(pool_ori)"
   ]
  },
  {
   "cell_type": "code",
   "execution_count": null,
   "metadata": {},
   "outputs": [],
   "source": []
  }
 ],
 "metadata": {
  "kernelspec": {
   "display_name": "popsyn",
   "language": "python",
   "name": "python3"
  },
  "language_info": {
   "codemirror_mode": {
    "name": "ipython",
    "version": 3
   },
   "file_extension": ".py",
   "mimetype": "text/x-python",
   "name": "python",
   "nbconvert_exporter": "python",
   "pygments_lexer": "ipython3",
   "version": "3.9.18"
  }
 },
 "nbformat": 4,
 "nbformat_minor": 2
}
