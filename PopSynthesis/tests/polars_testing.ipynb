{
 "cells": [
  {
   "cell_type": "code",
   "execution_count": 1,
   "metadata": {},
   "outputs": [
    {
     "data": {
      "text/html": [
       "<div>\n",
       "<style scoped>\n",
       "    .dataframe tbody tr th:only-of-type {\n",
       "        vertical-align: middle;\n",
       "    }\n",
       "\n",
       "    .dataframe tbody tr th {\n",
       "        vertical-align: top;\n",
       "    }\n",
       "\n",
       "    .dataframe thead th {\n",
       "        text-align: right;\n",
       "    }\n",
       "</style>\n",
       "<table border=\"1\" class=\"dataframe\">\n",
       "  <thead>\n",
       "    <tr style=\"text-align: right;\">\n",
       "      <th></th>\n",
       "      <th>Name</th>\n",
       "      <th>Sex</th>\n",
       "      <th>AgeGroup</th>\n",
       "      <th>License</th>\n",
       "      <th>AnyWork</th>\n",
       "    </tr>\n",
       "  </thead>\n",
       "  <tbody>\n",
       "    <tr>\n",
       "      <th>0</th>\n",
       "      <td>Alice</td>\n",
       "      <td>Female</td>\n",
       "      <td>20-29</td>\n",
       "      <td>Yes</td>\n",
       "      <td>Yes</td>\n",
       "    </tr>\n",
       "    <tr>\n",
       "      <th>1</th>\n",
       "      <td>Bob</td>\n",
       "      <td>Male</td>\n",
       "      <td>30-39</td>\n",
       "      <td>No</td>\n",
       "      <td>Yes</td>\n",
       "    </tr>\n",
       "    <tr>\n",
       "      <th>2</th>\n",
       "      <td>Charlie</td>\n",
       "      <td>Male</td>\n",
       "      <td>40-49</td>\n",
       "      <td>Yes</td>\n",
       "      <td>No</td>\n",
       "    </tr>\n",
       "    <tr>\n",
       "      <th>3</th>\n",
       "      <td>David</td>\n",
       "      <td>Male</td>\n",
       "      <td>20-29</td>\n",
       "      <td>No</td>\n",
       "      <td>Yes</td>\n",
       "    </tr>\n",
       "    <tr>\n",
       "      <th>4</th>\n",
       "      <td>Eva</td>\n",
       "      <td>Female</td>\n",
       "      <td>30-39</td>\n",
       "      <td>Yes</td>\n",
       "      <td>No</td>\n",
       "    </tr>\n",
       "    <tr>\n",
       "      <th>5</th>\n",
       "      <td>Frank</td>\n",
       "      <td>Male</td>\n",
       "      <td>40-49</td>\n",
       "      <td>No</td>\n",
       "      <td>No</td>\n",
       "    </tr>\n",
       "    <tr>\n",
       "      <th>6</th>\n",
       "      <td>Grace</td>\n",
       "      <td>Female</td>\n",
       "      <td>20-29</td>\n",
       "      <td>Yes</td>\n",
       "      <td>Yes</td>\n",
       "    </tr>\n",
       "    <tr>\n",
       "      <th>7</th>\n",
       "      <td>Hannah</td>\n",
       "      <td>Female</td>\n",
       "      <td>30-39</td>\n",
       "      <td>No</td>\n",
       "      <td>Yes</td>\n",
       "    </tr>\n",
       "    <tr>\n",
       "      <th>8</th>\n",
       "      <td>Ian</td>\n",
       "      <td>Male</td>\n",
       "      <td>40-49</td>\n",
       "      <td>Yes</td>\n",
       "      <td>No</td>\n",
       "    </tr>\n",
       "    <tr>\n",
       "      <th>9</th>\n",
       "      <td>Jack</td>\n",
       "      <td>Male</td>\n",
       "      <td>20-29</td>\n",
       "      <td>No</td>\n",
       "      <td>Yes</td>\n",
       "    </tr>\n",
       "  </tbody>\n",
       "</table>\n",
       "</div>"
      ],
      "text/plain": [
       "      Name     Sex AgeGroup License AnyWork\n",
       "0    Alice  Female    20-29     Yes     Yes\n",
       "1      Bob    Male    30-39      No     Yes\n",
       "2  Charlie    Male    40-49     Yes      No\n",
       "3    David    Male    20-29      No     Yes\n",
       "4      Eva  Female    30-39     Yes      No\n",
       "5    Frank    Male    40-49      No      No\n",
       "6    Grace  Female    20-29     Yes     Yes\n",
       "7   Hannah  Female    30-39      No     Yes\n",
       "8      Ian    Male    40-49     Yes      No\n",
       "9     Jack    Male    20-29      No     Yes"
      ]
     },
     "execution_count": 1,
     "metadata": {},
     "output_type": "execute_result"
    }
   ],
   "source": [
    "import pandas as pd\n",
    "\n",
    "# Creating mock data\n",
    "data = {\n",
    "    'Name': ['Alice', 'Bob', 'Charlie', 'David', 'Eva'],\n",
    "    'Sex': ['Female', 'Male', 'Male', 'Male', 'Female'],\n",
    "    'AgeGroup': ['20-29', '30-39', '40-49', '20-29', '30-39'],\n",
    "    'License': ['Yes', 'No', 'Yes', 'No', 'Yes'],\n",
    "    'AnyWork': ['Yes', 'Yes', 'No', 'Yes', 'No'],\n",
    "\n",
    "}\n",
    "data['Name'].extend(['Frank', 'Grace', 'Hannah', 'Ian', 'Jack'])\n",
    "data['Sex'].extend(['Male', 'Female', 'Female', 'Male', 'Male'])\n",
    "data['AgeGroup'].extend(['40-49', '20-29', '30-39', '40-49', '20-29'])\n",
    "data['License'].extend(['No', 'Yes', 'No', 'Yes', 'No'])\n",
    "data['AnyWork'].extend(['No', 'Yes', 'Yes', 'No', 'Yes'])\n",
    "# Creating DataFrame\n",
    "df = pd.DataFrame(data)\n",
    "df"
   ]
  },
  {
   "cell_type": "code",
   "execution_count": 2,
   "metadata": {},
   "outputs": [],
   "source": [
    "import polars as pl\n",
    "df = pl.from_pandas(df)"
   ]
  },
  {
   "cell_type": "code",
   "execution_count": 4,
   "metadata": {},
   "outputs": [],
   "source": [
    "gg = df.drop(\"Name\").with_columns(pl.lit(2).alias(\"count\"))\n",
    "# gg = gg.group_by(pl.col([\"Sex\", \"License\", \"AgeGroup\"])).agg(pl.sum(\"count\").alias(\"count\"))\n",
    "# aa = gg.pivot(\"Sex\", index=[\"AgeGroup\", \"License\"], values=\"count\")"
   ]
  },
  {
   "cell_type": "code",
   "execution_count": 10,
   "metadata": {},
   "outputs": [],
   "source": [
    "def convert_to_required_ILP_format(syn_count: pl.DataFrame, att:str, adjusted_atts: list[str], count_field:str=\"count\") -> pl.DataFrame:\n",
    "    \"\"\"Convert the disagg data to the required format for ILP\"\"\"\n",
    "    # group by and pivot the syn to have adjusted_atts as index and states in att as columns\n",
    "    assert count_field in syn_count.columns\n",
    "    gb_syn = syn_count.group_by(pl.col(adjusted_atts+[att])).agg(pl.sum(count_field).alias(count_field))\n",
    "    ILP_formatted_syn = gb_syn.pivot(att, index=adjusted_atts, values=count_field)\n",
    "    ILP_formatted_syn = ILP_formatted_syn.cast({x: pl.Int32 for x in ILP_formatted_syn.columns if x not in adjusted_atts})\n",
    "    return ILP_formatted_syn"
   ]
  },
  {
   "cell_type": "code",
   "execution_count": 11,
   "metadata": {},
   "outputs": [],
   "source": [
    "mm = convert_to_required_ILP_format(gg, \"Sex\", [\"AgeGroup\", \"License\"])"
   ]
  },
  {
   "cell_type": "code",
   "execution_count": 16,
   "metadata": {},
   "outputs": [
    {
     "data": {
      "text/html": [
       "<div><style>\n",
       ".dataframe > thead > tr,\n",
       ".dataframe > tbody > tr {\n",
       "  text-align: right;\n",
       "  white-space: pre-wrap;\n",
       "}\n",
       "</style>\n",
       "<small>shape: (6, 4)</small><table border=\"1\" class=\"dataframe\"><thead><tr><th>AgeGroup</th><th>License</th><th>Male</th><th>Female</th></tr><tr><td>str</td><td>str</td><td>i32</td><td>i32</td></tr></thead><tbody><tr><td>&quot;40-49&quot;</td><td>&quot;Yes&quot;</td><td>0</td><td>null</td></tr><tr><td>&quot;20-29&quot;</td><td>&quot;No&quot;</td><td>0</td><td>null</td></tr><tr><td>&quot;30-39&quot;</td><td>&quot;No&quot;</td><td>0</td><td>0</td></tr><tr><td>&quot;40-49&quot;</td><td>&quot;No&quot;</td><td>0</td><td>null</td></tr><tr><td>&quot;20-29&quot;</td><td>&quot;Yes&quot;</td><td>null</td><td>0</td></tr><tr><td>&quot;30-39&quot;</td><td>&quot;Yes&quot;</td><td>null</td><td>0</td></tr></tbody></table></div>"
      ],
      "text/plain": [
       "shape: (6, 4)\n",
       "┌──────────┬─────────┬──────┬────────┐\n",
       "│ AgeGroup ┆ License ┆ Male ┆ Female │\n",
       "│ ---      ┆ ---     ┆ ---  ┆ ---    │\n",
       "│ str      ┆ str     ┆ i32  ┆ i32    │\n",
       "╞══════════╪═════════╪══════╪════════╡\n",
       "│ 40-49    ┆ Yes     ┆ 0    ┆ null   │\n",
       "│ 20-29    ┆ No      ┆ 0    ┆ null   │\n",
       "│ 30-39    ┆ No      ┆ 0    ┆ 0      │\n",
       "│ 40-49    ┆ No      ┆ 0    ┆ null   │\n",
       "│ 20-29    ┆ Yes     ┆ null ┆ 0      │\n",
       "│ 30-39    ┆ Yes     ┆ null ┆ 0      │\n",
       "└──────────┴─────────┴──────┴────────┘"
      ]
     },
     "execution_count": 16,
     "metadata": {},
     "output_type": "execute_result"
    }
   ],
   "source": [
    "mm.with_columns(pl.when(pl.col(pl.Int32).is_not_null()).then(pl.lit(0)).otherwise(pl.col(pl.Int32)).name.suffix(\"\"))"
   ]
  },
  {
   "cell_type": "code",
   "execution_count": 164,
   "metadata": {},
   "outputs": [],
   "source": [
    "mm = aa.unpivot([\"Male\", \"Female\"], index=[\"AgeGroup\",\"License\"], variable_name=\"Sex\", value_name=\"count\").filter(pl.col(\"count\").is_not_null())"
   ]
  },
  {
   "cell_type": "code",
   "execution_count": 201,
   "metadata": {},
   "outputs": [
    {
     "data": {
      "text/html": [
       "<div><style>\n",
       ".dataframe > thead > tr,\n",
       ".dataframe > tbody > tr {\n",
       "  text-align: right;\n",
       "  white-space: pre-wrap;\n",
       "}\n",
       "</style>\n",
       "<small>shape: (7, 4)</small><table border=\"1\" class=\"dataframe\"><thead><tr><th>AgeGroup</th><th>License</th><th>Sex</th><th>count</th></tr><tr><td>str</td><td>str</td><td>str</td><td>i32</td></tr></thead><tbody><tr><td>&quot;30-39&quot;</td><td>&quot;No&quot;</td><td>&quot;j&quot;</td><td>2</td></tr><tr><td>&quot;20-29&quot;</td><td>&quot;No&quot;</td><td>&quot;j&quot;</td><td>4</td></tr><tr><td>&quot;40-49&quot;</td><td>&quot;Yes&quot;</td><td>&quot;j&quot;</td><td>4</td></tr><tr><td>&quot;40-49&quot;</td><td>&quot;No&quot;</td><td>&quot;j&quot;</td><td>2</td></tr><tr><td>&quot;30-39&quot;</td><td>&quot;No&quot;</td><td>&quot;Female&quot;</td><td>2</td></tr><tr><td>&quot;20-29&quot;</td><td>&quot;Yes&quot;</td><td>&quot;Female&quot;</td><td>4</td></tr><tr><td>&quot;30-39&quot;</td><td>&quot;Yes&quot;</td><td>&quot;Female&quot;</td><td>2</td></tr></tbody></table></div>"
      ],
      "text/plain": [
       "shape: (7, 4)\n",
       "┌──────────┬─────────┬────────┬───────┐\n",
       "│ AgeGroup ┆ License ┆ Sex    ┆ count │\n",
       "│ ---      ┆ ---     ┆ ---    ┆ ---   │\n",
       "│ str      ┆ str     ┆ str    ┆ i32   │\n",
       "╞══════════╪═════════╪════════╪═══════╡\n",
       "│ 30-39    ┆ No      ┆ j      ┆ 2     │\n",
       "│ 20-29    ┆ No      ┆ j      ┆ 4     │\n",
       "│ 40-49    ┆ Yes     ┆ j      ┆ 4     │\n",
       "│ 40-49    ┆ No      ┆ j      ┆ 2     │\n",
       "│ 30-39    ┆ No      ┆ Female ┆ 2     │\n",
       "│ 20-29    ┆ Yes     ┆ Female ┆ 4     │\n",
       "│ 30-39    ┆ Yes     ┆ Female ┆ 2     │\n",
       "└──────────┴─────────┴────────┴───────┘"
      ]
     },
     "execution_count": 201,
     "metadata": {},
     "output_type": "execute_result"
    }
   ],
   "source": [
    "\n",
    "# mm.with_columns(pl.when(pl.col(pl.String)==\"Male\").then(pl.lit(\"j\")).otherwise(pl.lit(\"k\")))\n",
    "# mm.with_columns(hhe=pl.when(pl.col(pl.String)==\"Male\").then(pl.lit(\"j\")).otherwise(pl.lit(\"k\")))\n",
    "mm.with_columns(pl.col(pl.String).replace_strict([\"Male\"], [\"j\"], default=pl.col(pl.String)))"
   ]
  },
  {
   "cell_type": "code",
   "execution_count": 20,
   "metadata": {},
   "outputs": [
    {
     "data": {
      "text/html": [
       "<div><style>\n",
       ".dataframe > thead > tr,\n",
       ".dataframe > tbody > tr {\n",
       "  text-align: right;\n",
       "  white-space: pre-wrap;\n",
       "}\n",
       "</style>\n",
       "<small>shape: (10, 6)</small><table border=\"1\" class=\"dataframe\"><thead><tr><th>Name</th><th>Sex</th><th>AgeGroup</th><th>License</th><th>AnyWork</th><th>test</th></tr><tr><td>str</td><td>str</td><td>str</td><td>str</td><td>str</td><td>list[str]</td></tr></thead><tbody><tr><td>&quot;Alice&quot;</td><td>&quot;Female&quot;</td><td>&quot;20-29&quot;</td><td>&quot;Yes&quot;</td><td>&quot;Yes&quot;</td><td>[&quot;Yes&quot;, &quot;Yes&quot;]</td></tr><tr><td>&quot;Bob&quot;</td><td>&quot;Male&quot;</td><td>&quot;30-39&quot;</td><td>&quot;No&quot;</td><td>&quot;Yes&quot;</td><td>[&quot;No&quot;, &quot;Yes&quot;]</td></tr><tr><td>&quot;Charlie&quot;</td><td>&quot;Male&quot;</td><td>&quot;40-49&quot;</td><td>&quot;Yes&quot;</td><td>&quot;No&quot;</td><td>[&quot;Yes&quot;, &quot;No&quot;]</td></tr><tr><td>&quot;David&quot;</td><td>&quot;Male&quot;</td><td>&quot;20-29&quot;</td><td>&quot;No&quot;</td><td>&quot;Yes&quot;</td><td>[&quot;No&quot;, &quot;Yes&quot;]</td></tr><tr><td>&quot;Eva&quot;</td><td>&quot;Female&quot;</td><td>&quot;30-39&quot;</td><td>&quot;Yes&quot;</td><td>&quot;No&quot;</td><td>[&quot;Yes&quot;, &quot;No&quot;]</td></tr><tr><td>&quot;Frank&quot;</td><td>&quot;Male&quot;</td><td>&quot;40-49&quot;</td><td>&quot;No&quot;</td><td>&quot;No&quot;</td><td>[&quot;No&quot;, &quot;No&quot;]</td></tr><tr><td>&quot;Grace&quot;</td><td>&quot;Female&quot;</td><td>&quot;20-29&quot;</td><td>&quot;Yes&quot;</td><td>&quot;Yes&quot;</td><td>[&quot;Yes&quot;, &quot;Yes&quot;]</td></tr><tr><td>&quot;Hannah&quot;</td><td>&quot;Female&quot;</td><td>&quot;30-39&quot;</td><td>&quot;No&quot;</td><td>&quot;Yes&quot;</td><td>[&quot;No&quot;, &quot;Yes&quot;]</td></tr><tr><td>&quot;Ian&quot;</td><td>&quot;Male&quot;</td><td>&quot;40-49&quot;</td><td>&quot;Yes&quot;</td><td>&quot;No&quot;</td><td>[&quot;Yes&quot;, &quot;No&quot;]</td></tr><tr><td>&quot;Jack&quot;</td><td>&quot;Male&quot;</td><td>&quot;20-29&quot;</td><td>&quot;No&quot;</td><td>&quot;Yes&quot;</td><td>[&quot;No&quot;, &quot;Yes&quot;]</td></tr></tbody></table></div>"
      ],
      "text/plain": [
       "shape: (10, 6)\n",
       "┌─────────┬────────┬──────────┬─────────┬─────────┬────────────────┐\n",
       "│ Name    ┆ Sex    ┆ AgeGroup ┆ License ┆ AnyWork ┆ test           │\n",
       "│ ---     ┆ ---    ┆ ---      ┆ ---     ┆ ---     ┆ ---            │\n",
       "│ str     ┆ str    ┆ str      ┆ str     ┆ str     ┆ list[str]      │\n",
       "╞═════════╪════════╪══════════╪═════════╪═════════╪════════════════╡\n",
       "│ Alice   ┆ Female ┆ 20-29    ┆ Yes     ┆ Yes     ┆ [\"Yes\", \"Yes\"] │\n",
       "│ Bob     ┆ Male   ┆ 30-39    ┆ No      ┆ Yes     ┆ [\"No\", \"Yes\"]  │\n",
       "│ Charlie ┆ Male   ┆ 40-49    ┆ Yes     ┆ No      ┆ [\"Yes\", \"No\"]  │\n",
       "│ David   ┆ Male   ┆ 20-29    ┆ No      ┆ Yes     ┆ [\"No\", \"Yes\"]  │\n",
       "│ Eva     ┆ Female ┆ 30-39    ┆ Yes     ┆ No      ┆ [\"Yes\", \"No\"]  │\n",
       "│ Frank   ┆ Male   ┆ 40-49    ┆ No      ┆ No      ┆ [\"No\", \"No\"]   │\n",
       "│ Grace   ┆ Female ┆ 20-29    ┆ Yes     ┆ Yes     ┆ [\"Yes\", \"Yes\"] │\n",
       "│ Hannah  ┆ Female ┆ 30-39    ┆ No      ┆ Yes     ┆ [\"No\", \"Yes\"]  │\n",
       "│ Ian     ┆ Male   ┆ 40-49    ┆ Yes     ┆ No      ┆ [\"Yes\", \"No\"]  │\n",
       "│ Jack    ┆ Male   ┆ 20-29    ┆ No      ┆ Yes     ┆ [\"No\", \"Yes\"]  │\n",
       "└─────────┴────────┴──────────┴─────────┴─────────┴────────────────┘"
      ]
     },
     "execution_count": 20,
     "metadata": {},
     "output_type": "execute_result"
    }
   ],
   "source": [
    "b = df.with_columns(pl.concat_list([\"License\", \"AnyWork\"]).alias(\"test\"))\n",
    "b"
   ]
  },
  {
   "cell_type": "code",
   "execution_count": 44,
   "metadata": {},
   "outputs": [
    {
     "data": {
      "text/html": [
       "<div><style>\n",
       ".dataframe > thead > tr,\n",
       ".dataframe > tbody > tr {\n",
       "  text-align: right;\n",
       "  white-space: pre-wrap;\n",
       "}\n",
       "</style>\n",
       "<small>shape: (5, 4)</small><table border=\"1\" class=\"dataframe\"><thead><tr><th>Sex</th><th>AgeGroup</th><th>test</th><th>len</th></tr><tr><td>str</td><td>str</td><td>list[list[str]]</td><td>u32</td></tr></thead><tbody><tr><td>&quot;Male&quot;</td><td>&quot;30-39&quot;</td><td>[[&quot;No&quot;, &quot;Yes&quot;]]</td><td>1</td></tr><tr><td>&quot;Female&quot;</td><td>&quot;30-39&quot;</td><td>[[&quot;Yes&quot;, &quot;No&quot;], [&quot;No&quot;, &quot;Yes&quot;]]</td><td>2</td></tr><tr><td>&quot;Male&quot;</td><td>&quot;20-29&quot;</td><td>[[&quot;No&quot;, &quot;Yes&quot;], [&quot;No&quot;, &quot;Yes&quot;]]</td><td>2</td></tr><tr><td>&quot;Female&quot;</td><td>&quot;20-29&quot;</td><td>[[&quot;Yes&quot;, &quot;Yes&quot;], [&quot;Yes&quot;, &quot;Yes&quot;]]</td><td>2</td></tr><tr><td>&quot;Male&quot;</td><td>&quot;40-49&quot;</td><td>[[&quot;Yes&quot;, &quot;No&quot;], [&quot;No&quot;, &quot;No&quot;], [&quot;Yes&quot;, &quot;No&quot;]]</td><td>3</td></tr></tbody></table></div>"
      ],
      "text/plain": [
       "shape: (5, 4)\n",
       "┌────────┬──────────┬─────────────────────────────────┬─────┐\n",
       "│ Sex    ┆ AgeGroup ┆ test                            ┆ len │\n",
       "│ ---    ┆ ---      ┆ ---                             ┆ --- │\n",
       "│ str    ┆ str      ┆ list[list[str]]                 ┆ u32 │\n",
       "╞════════╪══════════╪═════════════════════════════════╪═════╡\n",
       "│ Male   ┆ 30-39    ┆ [[\"No\", \"Yes\"]]                 ┆ 1   │\n",
       "│ Female ┆ 30-39    ┆ [[\"Yes\", \"No\"], [\"No\", \"Yes\"]]  ┆ 2   │\n",
       "│ Male   ┆ 20-29    ┆ [[\"No\", \"Yes\"], [\"No\", \"Yes\"]]  ┆ 2   │\n",
       "│ Female ┆ 20-29    ┆ [[\"Yes\", \"Yes\"], [\"Yes\", \"Yes\"… ┆ 2   │\n",
       "│ Male   ┆ 40-49    ┆ [[\"Yes\", \"No\"], [\"No\", \"No\"], … ┆ 3   │\n",
       "└────────┴──────────┴─────────────────────────────────┴─────┘"
      ]
     },
     "execution_count": 44,
     "metadata": {},
     "output_type": "execute_result"
    }
   ],
   "source": [
    "a = b.group_by([\"Sex\", \"AgeGroup\"]).agg(pl.col(\"test\"), pl.len())\n",
    "a"
   ]
  },
  {
   "cell_type": "code",
   "execution_count": 81,
   "metadata": {},
   "outputs": [
    {
     "data": {
      "text/html": [
       "<div><style>\n",
       ".dataframe > thead > tr,\n",
       ".dataframe > tbody > tr {\n",
       "  text-align: right;\n",
       "  white-space: pre-wrap;\n",
       "}\n",
       "</style>\n",
       "<small>shape: (5, 6)</small><table border=\"1\" class=\"dataframe\"><thead><tr><th>Sex</th><th>AgeGroup</th><th>test</th><th>len</th><th>weights</th><th>to_sample</th></tr><tr><td>str</td><td>str</td><td>list[list[str]]</td><td>u32</td><td>list[i32]</td><td>i32</td></tr></thead><tbody><tr><td>&quot;Male&quot;</td><td>&quot;30-39&quot;</td><td>[[&quot;No&quot;, &quot;Yes&quot;]]</td><td>1</td><td>[8]</td><td>2</td></tr><tr><td>&quot;Female&quot;</td><td>&quot;30-39&quot;</td><td>[[&quot;Yes&quot;, &quot;No&quot;], [&quot;No&quot;, &quot;Yes&quot;]]</td><td>2</td><td>[5, 3]</td><td>4</td></tr><tr><td>&quot;Male&quot;</td><td>&quot;20-29&quot;</td><td>[[&quot;No&quot;, &quot;Yes&quot;], [&quot;No&quot;, &quot;Yes&quot;]]</td><td>2</td><td>[2, 7]</td><td>2</td></tr><tr><td>&quot;Female&quot;</td><td>&quot;20-29&quot;</td><td>[[&quot;Yes&quot;, &quot;Yes&quot;], [&quot;Yes&quot;, &quot;Yes&quot;]]</td><td>2</td><td>[7, 2]</td><td>4</td></tr><tr><td>&quot;Male&quot;</td><td>&quot;40-49&quot;</td><td>[[&quot;Yes&quot;, &quot;No&quot;], [&quot;No&quot;, &quot;No&quot;], [&quot;Yes&quot;, &quot;No&quot;]]</td><td>3</td><td>[2, 7, 1]</td><td>3</td></tr></tbody></table></div>"
      ],
      "text/plain": [
       "shape: (5, 6)\n",
       "┌────────┬──────────┬─────────────────────────────────┬─────┬───────────┬───────────┐\n",
       "│ Sex    ┆ AgeGroup ┆ test                            ┆ len ┆ weights   ┆ to_sample │\n",
       "│ ---    ┆ ---      ┆ ---                             ┆ --- ┆ ---       ┆ ---       │\n",
       "│ str    ┆ str      ┆ list[list[str]]                 ┆ u32 ┆ list[i32] ┆ i32       │\n",
       "╞════════╪══════════╪═════════════════════════════════╪═════╪═══════════╪═══════════╡\n",
       "│ Male   ┆ 30-39    ┆ [[\"No\", \"Yes\"]]                 ┆ 1   ┆ [8]       ┆ 2         │\n",
       "│ Female ┆ 30-39    ┆ [[\"Yes\", \"No\"], [\"No\", \"Yes\"]]  ┆ 2   ┆ [5, 3]    ┆ 4         │\n",
       "│ Male   ┆ 20-29    ┆ [[\"No\", \"Yes\"], [\"No\", \"Yes\"]]  ┆ 2   ┆ [2, 7]    ┆ 2         │\n",
       "│ Female ┆ 20-29    ┆ [[\"Yes\", \"Yes\"], [\"Yes\", \"Yes\"… ┆ 2   ┆ [7, 2]    ┆ 4         │\n",
       "│ Male   ┆ 40-49    ┆ [[\"Yes\", \"No\"], [\"No\", \"No\"], … ┆ 3   ┆ [2, 7, 1] ┆ 3         │\n",
       "└────────┴──────────┴─────────────────────────────────┴─────┴───────────┴───────────┘"
      ]
     },
     "execution_count": 81,
     "metadata": {},
     "output_type": "execute_result"
    }
   ],
   "source": [
    "import random\n",
    "import numpy as np\n",
    "d = a.with_columns(pl.col(\"len\").map_elements(lambda s: random.choices(range(1,9), k=s), return_dtype=pl.List(pl.Int32)).alias(\"weights\"))\n",
    "d = d.with_columns(pl.lit(np.array(random.choices(range(1,5), k=d.height))).alias(\"to_sample\"))\n",
    "d"
   ]
  },
  {
   "cell_type": "markdown",
   "metadata": {},
   "source": []
  },
  {
   "cell_type": "code",
   "execution_count": 104,
   "metadata": {},
   "outputs": [
    {
     "data": {
      "text/plain": [
       "array(['sa'], dtype='<U2')"
      ]
     },
     "execution_count": 104,
     "metadata": {},
     "output_type": "execute_result"
    }
   ],
   "source": [
    "np.random.choice(a=[\"sa\"], size=1, p=[x/sum([8]) for x in [8]], replace=True)"
   ]
  },
  {
   "cell_type": "code",
   "execution_count": 114,
   "metadata": {},
   "outputs": [
    {
     "data": {
      "text/html": [
       "<div><style>\n",
       ".dataframe > thead > tr,\n",
       ".dataframe > tbody > tr {\n",
       "  text-align: right;\n",
       "  white-space: pre-wrap;\n",
       "}\n",
       "</style>\n",
       "<small>shape: (5, 7)</small><table border=\"1\" class=\"dataframe\"><thead><tr><th>Sex</th><th>AgeGroup</th><th>test</th><th>len</th><th>weights</th><th>to_sample</th><th>draw</th></tr><tr><td>str</td><td>str</td><td>list[list[str]]</td><td>u32</td><td>list[i32]</td><td>i32</td><td>list[list[str]]</td></tr></thead><tbody><tr><td>&quot;Male&quot;</td><td>&quot;30-39&quot;</td><td>[[&quot;No&quot;, &quot;Yes&quot;]]</td><td>1</td><td>[8]</td><td>2</td><td>[[&quot;No&quot;, &quot;Yes&quot;], [&quot;No&quot;, &quot;Yes&quot;]]</td></tr><tr><td>&quot;Female&quot;</td><td>&quot;30-39&quot;</td><td>[[&quot;Yes&quot;, &quot;No&quot;], [&quot;No&quot;, &quot;Yes&quot;]]</td><td>2</td><td>[5, 3]</td><td>4</td><td>[[&quot;No&quot;, &quot;Yes&quot;], [&quot;Yes&quot;, &quot;No&quot;], … [&quot;Yes&quot;, &quot;No&quot;]]</td></tr><tr><td>&quot;Male&quot;</td><td>&quot;20-29&quot;</td><td>[[&quot;No&quot;, &quot;Yes&quot;], [&quot;No&quot;, &quot;Yes&quot;]]</td><td>2</td><td>[2, 7]</td><td>2</td><td>[[&quot;No&quot;, &quot;Yes&quot;], [&quot;No&quot;, &quot;Yes&quot;]]</td></tr><tr><td>&quot;Female&quot;</td><td>&quot;20-29&quot;</td><td>[[&quot;Yes&quot;, &quot;Yes&quot;], [&quot;Yes&quot;, &quot;Yes&quot;]]</td><td>2</td><td>[7, 2]</td><td>4</td><td>[[&quot;Yes&quot;, &quot;Yes&quot;], [&quot;Yes&quot;, &quot;Yes&quot;], … [&quot;Yes&quot;, &quot;Yes&quot;]]</td></tr><tr><td>&quot;Male&quot;</td><td>&quot;40-49&quot;</td><td>[[&quot;Yes&quot;, &quot;No&quot;], [&quot;No&quot;, &quot;No&quot;], [&quot;Yes&quot;, &quot;No&quot;]]</td><td>3</td><td>[2, 7, 1]</td><td>3</td><td>[[&quot;Yes&quot;, &quot;No&quot;], [&quot;No&quot;, &quot;No&quot;], [&quot;No&quot;, &quot;No&quot;]]</td></tr></tbody></table></div>"
      ],
      "text/plain": [
       "shape: (5, 7)\n",
       "┌────────┬──────────┬──────────────────┬─────┬───────────┬───────────┬──────────────────────────┐\n",
       "│ Sex    ┆ AgeGroup ┆ test             ┆ len ┆ weights   ┆ to_sample ┆ draw                     │\n",
       "│ ---    ┆ ---      ┆ ---              ┆ --- ┆ ---       ┆ ---       ┆ ---                      │\n",
       "│ str    ┆ str      ┆ list[list[str]]  ┆ u32 ┆ list[i32] ┆ i32       ┆ list[list[str]]          │\n",
       "╞════════╪══════════╪══════════════════╪═════╪═══════════╪═══════════╪══════════════════════════╡\n",
       "│ Male   ┆ 30-39    ┆ [[\"No\", \"Yes\"]]  ┆ 1   ┆ [8]       ┆ 2         ┆ [[\"No\", \"Yes\"], [\"No\",   │\n",
       "│        ┆          ┆                  ┆     ┆           ┆           ┆ \"Yes\"]]                  │\n",
       "│ Female ┆ 30-39    ┆ [[\"Yes\", \"No\"],  ┆ 2   ┆ [5, 3]    ┆ 4         ┆ [[\"No\", \"Yes\"], [\"Yes\",  │\n",
       "│        ┆          ┆ [\"No\", \"Yes\"]]   ┆     ┆           ┆           ┆ \"No\"],…                  │\n",
       "│ Male   ┆ 20-29    ┆ [[\"No\", \"Yes\"],  ┆ 2   ┆ [2, 7]    ┆ 2         ┆ [[\"No\", \"Yes\"], [\"No\",   │\n",
       "│        ┆          ┆ [\"No\", \"Yes\"]]   ┆     ┆           ┆           ┆ \"Yes\"]]                  │\n",
       "│ Female ┆ 20-29    ┆ [[\"Yes\", \"Yes\"], ┆ 2   ┆ [7, 2]    ┆ 4         ┆ [[\"Yes\", \"Yes\"], [\"Yes\", │\n",
       "│        ┆          ┆ [\"Yes\", \"Yes\"…   ┆     ┆           ┆           ┆ \"Yes\"…                   │\n",
       "│ Male   ┆ 40-49    ┆ [[\"Yes\", \"No\"],  ┆ 3   ┆ [2, 7, 1] ┆ 3         ┆ [[\"Yes\", \"No\"], [\"No\",   │\n",
       "│        ┆          ┆ [\"No\", \"No\"], …  ┆     ┆           ┆           ┆ \"No\"], …                 │\n",
       "└────────┴──────────┴──────────────────┴─────┴───────────┴───────────┴──────────────────────────┘"
      ]
     },
     "execution_count": 114,
     "metadata": {},
     "output_type": "execute_result"
    }
   ],
   "source": [
    "from numpy.random import choice\n",
    "\n",
    "def f(r):\n",
    "    result = choice(a=range(0, len(r[\"test\"])), size=r[\"to_sample\"], p=[x/sum(r[\"weights\"]) for x in r[\"weights\"]], replace=True)\n",
    "    return [r[\"test\"][x] for x in result]\n",
    "draw = d.with_columns(pl.struct(pl.col([\"test\", \"weights\", \"to_sample\"])).map_elements(f, return_dtype=pl.List(pl.List(str))).alias(\"draw\"))\n",
    "\n",
    "draw"
   ]
  },
  {
   "cell_type": "code",
   "execution_count": 121,
   "metadata": {},
   "outputs": [],
   "source": [
    "mm = draw.explode(\"draw\")"
   ]
  },
  {
   "cell_type": "code",
   "execution_count": 122,
   "metadata": {},
   "outputs": [
    {
     "data": {
      "text/html": [
       "<div><style>\n",
       ".dataframe > thead > tr,\n",
       ".dataframe > tbody > tr {\n",
       "  text-align: right;\n",
       "  white-space: pre-wrap;\n",
       "}\n",
       "</style>\n",
       "<small>shape: (15, 8)</small><table border=\"1\" class=\"dataframe\"><thead><tr><th>Sex</th><th>AgeGroup</th><th>test</th><th>len</th><th>weights</th><th>to_sample</th><th>numbers_0</th><th>numbers_1</th></tr><tr><td>str</td><td>str</td><td>list[list[str]]</td><td>u32</td><td>list[i32]</td><td>i32</td><td>str</td><td>str</td></tr></thead><tbody><tr><td>&quot;Male&quot;</td><td>&quot;30-39&quot;</td><td>[[&quot;No&quot;, &quot;Yes&quot;]]</td><td>1</td><td>[8]</td><td>2</td><td>&quot;No&quot;</td><td>&quot;Yes&quot;</td></tr><tr><td>&quot;Male&quot;</td><td>&quot;30-39&quot;</td><td>[[&quot;No&quot;, &quot;Yes&quot;]]</td><td>1</td><td>[8]</td><td>2</td><td>&quot;No&quot;</td><td>&quot;Yes&quot;</td></tr><tr><td>&quot;Female&quot;</td><td>&quot;30-39&quot;</td><td>[[&quot;Yes&quot;, &quot;No&quot;], [&quot;No&quot;, &quot;Yes&quot;]]</td><td>2</td><td>[5, 3]</td><td>4</td><td>&quot;No&quot;</td><td>&quot;Yes&quot;</td></tr><tr><td>&quot;Female&quot;</td><td>&quot;30-39&quot;</td><td>[[&quot;Yes&quot;, &quot;No&quot;], [&quot;No&quot;, &quot;Yes&quot;]]</td><td>2</td><td>[5, 3]</td><td>4</td><td>&quot;Yes&quot;</td><td>&quot;No&quot;</td></tr><tr><td>&quot;Female&quot;</td><td>&quot;30-39&quot;</td><td>[[&quot;Yes&quot;, &quot;No&quot;], [&quot;No&quot;, &quot;Yes&quot;]]</td><td>2</td><td>[5, 3]</td><td>4</td><td>&quot;Yes&quot;</td><td>&quot;No&quot;</td></tr><tr><td>&hellip;</td><td>&hellip;</td><td>&hellip;</td><td>&hellip;</td><td>&hellip;</td><td>&hellip;</td><td>&hellip;</td><td>&hellip;</td></tr><tr><td>&quot;Female&quot;</td><td>&quot;20-29&quot;</td><td>[[&quot;Yes&quot;, &quot;Yes&quot;], [&quot;Yes&quot;, &quot;Yes&quot;]]</td><td>2</td><td>[7, 2]</td><td>4</td><td>&quot;Yes&quot;</td><td>&quot;Yes&quot;</td></tr><tr><td>&quot;Female&quot;</td><td>&quot;20-29&quot;</td><td>[[&quot;Yes&quot;, &quot;Yes&quot;], [&quot;Yes&quot;, &quot;Yes&quot;]]</td><td>2</td><td>[7, 2]</td><td>4</td><td>&quot;Yes&quot;</td><td>&quot;Yes&quot;</td></tr><tr><td>&quot;Male&quot;</td><td>&quot;40-49&quot;</td><td>[[&quot;Yes&quot;, &quot;No&quot;], [&quot;No&quot;, &quot;No&quot;], [&quot;Yes&quot;, &quot;No&quot;]]</td><td>3</td><td>[2, 7, 1]</td><td>3</td><td>&quot;Yes&quot;</td><td>&quot;No&quot;</td></tr><tr><td>&quot;Male&quot;</td><td>&quot;40-49&quot;</td><td>[[&quot;Yes&quot;, &quot;No&quot;], [&quot;No&quot;, &quot;No&quot;], [&quot;Yes&quot;, &quot;No&quot;]]</td><td>3</td><td>[2, 7, 1]</td><td>3</td><td>&quot;No&quot;</td><td>&quot;No&quot;</td></tr><tr><td>&quot;Male&quot;</td><td>&quot;40-49&quot;</td><td>[[&quot;Yes&quot;, &quot;No&quot;], [&quot;No&quot;, &quot;No&quot;], [&quot;Yes&quot;, &quot;No&quot;]]</td><td>3</td><td>[2, 7, 1]</td><td>3</td><td>&quot;No&quot;</td><td>&quot;No&quot;</td></tr></tbody></table></div>"
      ],
      "text/plain": [
       "shape: (15, 8)\n",
       "┌────────┬──────────┬────────────────────────┬─────┬───────────┬───────────┬───────────┬───────────┐\n",
       "│ Sex    ┆ AgeGroup ┆ test                   ┆ len ┆ weights   ┆ to_sample ┆ numbers_0 ┆ numbers_1 │\n",
       "│ ---    ┆ ---      ┆ ---                    ┆ --- ┆ ---       ┆ ---       ┆ ---       ┆ ---       │\n",
       "│ str    ┆ str      ┆ list[list[str]]        ┆ u32 ┆ list[i32] ┆ i32       ┆ str       ┆ str       │\n",
       "╞════════╪══════════╪════════════════════════╪═════╪═══════════╪═══════════╪═══════════╪═══════════╡\n",
       "│ Male   ┆ 30-39    ┆ [[\"No\", \"Yes\"]]        ┆ 1   ┆ [8]       ┆ 2         ┆ No        ┆ Yes       │\n",
       "│ Male   ┆ 30-39    ┆ [[\"No\", \"Yes\"]]        ┆ 1   ┆ [8]       ┆ 2         ┆ No        ┆ Yes       │\n",
       "│ Female ┆ 30-39    ┆ [[\"Yes\", \"No\"], [\"No\", ┆ 2   ┆ [5, 3]    ┆ 4         ┆ No        ┆ Yes       │\n",
       "│        ┆          ┆ \"Yes\"]]                ┆     ┆           ┆           ┆           ┆           │\n",
       "│ Female ┆ 30-39    ┆ [[\"Yes\", \"No\"], [\"No\", ┆ 2   ┆ [5, 3]    ┆ 4         ┆ Yes       ┆ No        │\n",
       "│        ┆          ┆ \"Yes\"]]                ┆     ┆           ┆           ┆           ┆           │\n",
       "│ Female ┆ 30-39    ┆ [[\"Yes\", \"No\"], [\"No\", ┆ 2   ┆ [5, 3]    ┆ 4         ┆ Yes       ┆ No        │\n",
       "│        ┆          ┆ \"Yes\"]]                ┆     ┆           ┆           ┆           ┆           │\n",
       "│ …      ┆ …        ┆ …                      ┆ …   ┆ …         ┆ …         ┆ …         ┆ …         │\n",
       "│ Female ┆ 20-29    ┆ [[\"Yes\", \"Yes\"],       ┆ 2   ┆ [7, 2]    ┆ 4         ┆ Yes       ┆ Yes       │\n",
       "│        ┆          ┆ [\"Yes\", \"Yes\"…         ┆     ┆           ┆           ┆           ┆           │\n",
       "│ Female ┆ 20-29    ┆ [[\"Yes\", \"Yes\"],       ┆ 2   ┆ [7, 2]    ┆ 4         ┆ Yes       ┆ Yes       │\n",
       "│        ┆          ┆ [\"Yes\", \"Yes\"…         ┆     ┆           ┆           ┆           ┆           │\n",
       "│ Male   ┆ 40-49    ┆ [[\"Yes\", \"No\"], [\"No\", ┆ 3   ┆ [2, 7, 1] ┆ 3         ┆ Yes       ┆ No        │\n",
       "│        ┆          ┆ \"No\"], …               ┆     ┆           ┆           ┆           ┆           │\n",
       "│ Male   ┆ 40-49    ┆ [[\"Yes\", \"No\"], [\"No\", ┆ 3   ┆ [2, 7, 1] ┆ 3         ┆ No        ┆ No        │\n",
       "│        ┆          ┆ \"No\"], …               ┆     ┆           ┆           ┆           ┆           │\n",
       "│ Male   ┆ 40-49    ┆ [[\"Yes\", \"No\"], [\"No\", ┆ 3   ┆ [2, 7, 1] ┆ 3         ┆ No        ┆ No        │\n",
       "│        ┆          ┆ \"No\"], …               ┆     ┆           ┆           ┆           ┆           │\n",
       "└────────┴──────────┴────────────────────────┴─────┴───────────┴───────────┴───────────┴───────────┘"
      ]
     },
     "execution_count": 122,
     "metadata": {},
     "output_type": "execute_result"
    }
   ],
   "source": [
    "mm.with_columns(pl.col('draw').list.to_struct(\n",
    "            fields=lambda idx: f\"numbers_{idx}\",\n",
    "            n_field_strategy='max_width'\n",
    "            )\n",
    "        ).unnest('draw')"
   ]
  },
  {
   "cell_type": "code",
   "execution_count": null,
   "metadata": {},
   "outputs": [],
   "source": []
  }
 ],
 "metadata": {
  "kernelspec": {
   "display_name": "popsyn",
   "language": "python",
   "name": "python3"
  },
  "language_info": {
   "codemirror_mode": {
    "name": "ipython",
    "version": 3
   },
   "file_extension": ".py",
   "mimetype": "text/x-python",
   "name": "python",
   "nbconvert_exporter": "python",
   "pygments_lexer": "ipython3",
   "version": "3.9.18"
  }
 },
 "nbformat": 4,
 "nbformat_minor": 2
}
